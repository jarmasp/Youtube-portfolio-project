{
 "cells": [
  {
   "cell_type": "code",
   "execution_count": 2,
   "metadata": {},
   "outputs": [],
   "source": [
    "#importing the module of the api that will be used\n",
    "from googleapiclient.discovery import build\n",
    "import pandas as pd\n",
    "from IPython.display import JSON"
   ]
  },
  {
   "cell_type": "code",
   "execution_count": 3,
   "metadata": {},
   "outputs": [],
   "source": [
    "#initializing key variables\n",
    "api_key = 'Your API key here'\n",
    "api_service_name = \"youtube\"\n",
    "api_version = \"v3\"\n"
   ]
  },
  {
   "cell_type": "code",
   "execution_count": 4,
   "metadata": {},
   "outputs": [],
   "source": [
    "#Youtube channel names\n",
    "#El cuartico, \n",
    "#Escuela de Nada, \n",
    "#Nos Reiremos de Esto,\n",
    "#Jasy y Neisser, \n",
    "#El Super Increible Podcast de Nanutria, \n",
    "#El Podcast de la Diversion, \n",
    "#El Humano es un Animal,\n",
    "#BLA BLA BLA"
   ]
  },
  {
   "cell_type": "code",
   "execution_count": 5,
   "metadata": {},
   "outputs": [
    {
     "name": "stdout",
     "output_type": "stream",
     "text": [
      "['UCS1u11uPQCrGwhfiQwceayA', 'UCZbq1qvbQzxDGUyuoPnF4LQ', 'UCZ4-r3oIR6xgiA7V7_F4pFw', 'UCQS3PooptNYNhs4-RIl-a2A', 'UC7Iabt-Qo5I5c8-cnwTHiWg', 'UCHlFByiv8ia44ArSWghLI3w', 'UCo8ifS6JKfDqV33pwAMeV0Q', 'UCxS_BFN-UtDEFp8p6vugsZQ']\n"
     ]
    }
   ],
   "source": [
    "#Youtube channel IDs\n",
    "#More Channels can be added\n",
    "channel_ids = ['UCS1u11uPQCrGwhfiQwceayA',\n",
    "               'UCZbq1qvbQzxDGUyuoPnF4LQ', \n",
    "               'UCZ4-r3oIR6xgiA7V7_F4pFw', \n",
    "               'UCQS3PooptNYNhs4-RIl-a2A', \n",
    "               'UC7Iabt-Qo5I5c8-cnwTHiWg', \n",
    "              'UCHlFByiv8ia44ArSWghLI3w', \n",
    "              'UCo8ifS6JKfDqV33pwAMeV0Q', \n",
    "              'UCxS_BFN-UtDEFp8p6vugsZQ',]\n",
    "\n",
    "print(channel_ids)"
   ]
  },
  {
   "cell_type": "code",
   "execution_count": 6,
   "metadata": {},
   "outputs": [],
   "source": [
    "#code snipet from the api documentation \n",
    "#api_service_name = \"youtube\"\n",
    "    #api_version = \"v3\"\n",
    "    #client_secrets_file = \"YOUR_CLIENT_SECRET_FILE.json\"\n",
    "\n",
    "    # Get credentials and create an API client\n",
    "    #flow = google_auth_oauthlib.flow.InstalledAppFlow.from_client_secrets_file(\n",
    "        #client_secrets_file, scopes)\n",
    "    #credentials = flow.run_console()\n",
    "    #youtube = googleapiclient.discovery.build(\n",
    "        #api_service_name, api_version, credentials=credentials)\n",
    "\n",
    "    #request = youtube.channels().list(\n",
    "        #part=\"snippet,contentDetails,statistics\",\n",
    "        #id=','.join(channel_ids) #using ',''.join() to concatenate the channel ids with comas\n",
    "    #)\n",
    "    #response = request.execute()\n",
    "\n",
    "    #print(response)"
   ]
  },
  {
   "cell_type": "code",
   "execution_count": 7,
   "metadata": {},
   "outputs": [],
   "source": [
    "#Get credentials and create an API client instead of credentials, developerkey will be used with the api_key\n",
    "youtube = build(\n",
    "    api_service_name, api_version, developerKey=api_key)"
   ]
  },
  {
   "cell_type": "code",
   "execution_count": 8,
   "metadata": {},
   "outputs": [
    {
     "data": {
      "application/json": {
       "etag": "G20LLdw_ARfN33wf8jv8i9DTiuY",
       "items": [
        {
         "contentDetails": {
          "relatedPlaylists": {
           "likes": "",
           "uploads": "UUZ4-r3oIR6xgiA7V7_F4pFw"
          }
         },
         "etag": "5tfIqeaDoSoKJP983pWxaOaU_Gg",
         "id": "UCZ4-r3oIR6xgiA7V7_F4pFw",
         "kind": "youtube#channel",
         "snippet": {
          "country": "US",
          "customUrl": "nrdetv",
          "description": "Podcast de comedia conducido por Jean Mary y Alex Goncalves.\nNuevos episodios todos los Martes/Jueves 12pm [miami]\n\nTambién disponible en Spotify, Appel podcast, Google podcast y AudioBoom.\n\nBooking  + Management: \nnosreiremos@gmail.com\n\nVoice Over: Karen Ferreira\n@karenferreirasoy\n\nGraphics by Weplash Agency\n@wplash\nWeplashagency.com\n\n\nCONVIERTETE PATREONCITO: \nhttps://www.patreon.com/nosreiremosdeesto\n\n\nwww.nosreiremosdeesto.com\n\n\nBy Connector Media House LLC™",
          "localized": {
           "description": "Podcast de comedia conducido por Jean Mary y Alex Goncalves.\nNuevos episodios todos los Martes/Jueves 12pm [miami]\n\nTambién disponible en Spotify, Appel podcast, Google podcast y AudioBoom.\n\nBooking  + Management: \nnosreiremos@gmail.com\n\nVoice Over: Karen Ferreira\n@karenferreirasoy\n\nGraphics by Weplash Agency\n@wplash\nWeplashagency.com\n\n\nCONVIERTETE PATREONCITO: \nhttps://www.patreon.com/nosreiremosdeesto\n\n\nwww.nosreiremosdeesto.com\n\n\nBy Connector Media House LLC™",
           "title": "Nos Reiremos de Esto!"
          },
          "publishedAt": "2006-11-21T02:34:13Z",
          "thumbnails": {
           "default": {
            "height": 88,
            "url": "https://yt3.ggpht.com/xhpDAdg0M5GQM9QT4ZQCelXtj-DHuRJjOx57Z5aFzBGntgbePGoEW_BQGTj_eTh9KtZ7cMk44Q=s88-c-k-c0x00ffffff-no-rj",
            "width": 88
           },
           "high": {
            "height": 800,
            "url": "https://yt3.ggpht.com/xhpDAdg0M5GQM9QT4ZQCelXtj-DHuRJjOx57Z5aFzBGntgbePGoEW_BQGTj_eTh9KtZ7cMk44Q=s800-c-k-c0x00ffffff-no-rj",
            "width": 800
           },
           "medium": {
            "height": 240,
            "url": "https://yt3.ggpht.com/xhpDAdg0M5GQM9QT4ZQCelXtj-DHuRJjOx57Z5aFzBGntgbePGoEW_BQGTj_eTh9KtZ7cMk44Q=s240-c-k-c0x00ffffff-no-rj",
            "width": 240
           }
          },
          "title": "Nos Reiremos de Esto!"
         },
         "statistics": {
          "hiddenSubscriberCount": false,
          "subscriberCount": "82600",
          "videoCount": "422",
          "viewCount": "20469224"
         }
        },
        {
         "contentDetails": {
          "relatedPlaylists": {
           "likes": "",
           "uploads": "UUZbq1qvbQzxDGUyuoPnF4LQ"
          }
         },
         "etag": "tEJRCL3o6WQ9ljN60g9ibNhRPag",
         "id": "UCZbq1qvbQzxDGUyuoPnF4LQ",
         "kind": "youtube#channel",
         "snippet": {
          "country": "MX",
          "customUrl": "escueladenada",
          "description": "Podcast de comedia improvisada presentado por Leo Rojas, Chris Andrade y Nacho Redondo.\n\nEpisodios nuevos todos los miércoles y domingos disponibles también en Spotify, iTunes y Google Podcast.\n\nY si quieres un episodio exclusivo los viernes y contenido extra (Scringeshot, Examen Oral y Recomendaciones) los martes, suscríbete a nuestro Patreon por tan solo $5 patreon.com/escueladenada\n",
          "localized": {
           "description": "Podcast de comedia improvisada presentado por Leo Rojas, Chris Andrade y Nacho Redondo.\n\nEpisodios nuevos todos los miércoles y domingos disponibles también en Spotify, iTunes y Google Podcast.\n\nY si quieres un episodio exclusivo los viernes y contenido extra (Scringeshot, Examen Oral y Recomendaciones) los martes, suscríbete a nuestro Patreon por tan solo $5 patreon.com/escueladenada\n",
           "title": "Escuela de Nada"
          },
          "publishedAt": "2018-06-12T16:34:58Z",
          "thumbnails": {
           "default": {
            "height": 88,
            "url": "https://yt3.ggpht.com/ytc/AKedOLQfAFQtaD1f5dwVyejcaxNhUbmo9GjfTV38z-mVvA=s88-c-k-c0x00ffffff-no-rj",
            "width": 88
           },
           "high": {
            "height": 800,
            "url": "https://yt3.ggpht.com/ytc/AKedOLQfAFQtaD1f5dwVyejcaxNhUbmo9GjfTV38z-mVvA=s800-c-k-c0x00ffffff-no-rj",
            "width": 800
           },
           "medium": {
            "height": 240,
            "url": "https://yt3.ggpht.com/ytc/AKedOLQfAFQtaD1f5dwVyejcaxNhUbmo9GjfTV38z-mVvA=s240-c-k-c0x00ffffff-no-rj",
            "width": 240
           }
          },
          "title": "Escuela de Nada"
         },
         "statistics": {
          "hiddenSubscriberCount": false,
          "subscriberCount": "256000",
          "videoCount": "405",
          "viewCount": "39924159"
         }
        },
        {
         "contentDetails": {
          "relatedPlaylists": {
           "likes": "",
           "uploads": "UUo8ifS6JKfDqV33pwAMeV0Q"
          }
         },
         "etag": "5h3koLJfVmfj7IpAh4Y8ART8Dpw",
         "id": "UCo8ifS6JKfDqV33pwAMeV0Q",
         "kind": "youtube#channel",
         "snippet": {
          "country": "MX",
          "customUrl": "joserafaelguzman",
          "description": "No me hago responsable de las porquerías que su hijo, su esposa o usted vean en este canal.",
          "localized": {
           "description": "No me hago responsable de las porquerías que su hijo, su esposa o usted vean en este canal.",
           "title": "Jóse R Guzmán"
          },
          "publishedAt": "2011-05-16T00:58:31Z",
          "thumbnails": {
           "default": {
            "height": 88,
            "url": "https://yt3.ggpht.com/WPb8FW6VtCPeStdU5zWQv8gc2TSmGl3p0c7FHwTW-BiGYU2pyDBWW012vcUZ4_vys3LUcYv5=s88-c-k-c0x00ffffff-no-rj",
            "width": 88
           },
           "high": {
            "height": 800,
            "url": "https://yt3.ggpht.com/WPb8FW6VtCPeStdU5zWQv8gc2TSmGl3p0c7FHwTW-BiGYU2pyDBWW012vcUZ4_vys3LUcYv5=s800-c-k-c0x00ffffff-no-rj",
            "width": 800
           },
           "medium": {
            "height": 240,
            "url": "https://yt3.ggpht.com/WPb8FW6VtCPeStdU5zWQv8gc2TSmGl3p0c7FHwTW-BiGYU2pyDBWW012vcUZ4_vys3LUcYv5=s240-c-k-c0x00ffffff-no-rj",
            "width": 240
           }
          },
          "title": "Jóse R Guzmán"
         },
         "statistics": {
          "hiddenSubscriberCount": false,
          "subscriberCount": "87700",
          "videoCount": "344",
          "viewCount": "7036908"
         }
        },
        {
         "contentDetails": {
          "relatedPlaylists": {
           "likes": "",
           "uploads": "UUHlFByiv8ia44ArSWghLI3w"
          }
         },
         "etag": "k6dLYG5aq1Eb1B6F0dbkfApw7WQ",
         "id": "UCHlFByiv8ia44ArSWghLI3w",
         "kind": "youtube#channel",
         "snippet": {
          "customUrl": "elpodcastdeladiversion",
          "description": "Un podcast divertido. ",
          "localized": {
           "description": "Un podcast divertido. ",
           "title": "El Podcast de La Diversión"
          },
          "publishedAt": "2021-03-24T14:19:58.009826Z",
          "thumbnails": {
           "default": {
            "height": 88,
            "url": "https://yt3.ggpht.com/mJ8wOve0ikXlE-_TFDAAPwueoom9glBhlflRa7_Zl8knck8yphh3PBXeaVgKAuRLeqTyuT0C=s88-c-k-c0x00ffffff-no-rj",
            "width": 88
           },
           "high": {
            "height": 800,
            "url": "https://yt3.ggpht.com/mJ8wOve0ikXlE-_TFDAAPwueoom9glBhlflRa7_Zl8knck8yphh3PBXeaVgKAuRLeqTyuT0C=s800-c-k-c0x00ffffff-no-rj",
            "width": 800
           },
           "medium": {
            "height": 240,
            "url": "https://yt3.ggpht.com/mJ8wOve0ikXlE-_TFDAAPwueoom9glBhlflRa7_Zl8knck8yphh3PBXeaVgKAuRLeqTyuT0C=s240-c-k-c0x00ffffff-no-rj",
            "width": 240
           }
          },
          "title": "El Podcast de La Diversión"
         },
         "statistics": {
          "hiddenSubscriberCount": false,
          "subscriberCount": "1610",
          "videoCount": "43",
          "viewCount": "43645"
         }
        },
        {
         "contentDetails": {
          "relatedPlaylists": {
           "likes": "",
           "uploads": "UU7Iabt-Qo5I5c8-cnwTHiWg"
          }
         },
         "etag": "eaF4Vv0p72I8Rt6YKeSWdgUfFkg",
         "id": "UC7Iabt-Qo5I5c8-cnwTHiWg",
         "kind": "youtube#channel",
         "snippet": {
          "customUrl": "nanutria",
          "description": "El canal de Nanutria, en donde Nanutria sube sus videos porque si los subiera otra persona no sería en canal de Nanutria.",
          "localized": {
           "description": "El canal de Nanutria, en donde Nanutria sube sus videos porque si los subiera otra persona no sería en canal de Nanutria.",
           "title": "nanutria"
          },
          "publishedAt": "2006-10-13T04:35:32Z",
          "thumbnails": {
           "default": {
            "height": 88,
            "url": "https://yt3.ggpht.com/ytc/AKedOLS-x6ynkumpDZqm9kD8Fti5IPcD7STXkAIBNJOD2w=s88-c-k-c0x00ffffff-no-rj",
            "width": 88
           },
           "high": {
            "height": 800,
            "url": "https://yt3.ggpht.com/ytc/AKedOLS-x6ynkumpDZqm9kD8Fti5IPcD7STXkAIBNJOD2w=s800-c-k-c0x00ffffff-no-rj",
            "width": 800
           },
           "medium": {
            "height": 240,
            "url": "https://yt3.ggpht.com/ytc/AKedOLS-x6ynkumpDZqm9kD8Fti5IPcD7STXkAIBNJOD2w=s240-c-k-c0x00ffffff-no-rj",
            "width": 240
           }
          },
          "title": "nanutria"
         },
         "statistics": {
          "hiddenSubscriberCount": false,
          "subscriberCount": "114000",
          "videoCount": "234",
          "viewCount": "10209515"
         }
        },
        {
         "contentDetails": {
          "relatedPlaylists": {
           "likes": "",
           "uploads": "UUS1u11uPQCrGwhfiQwceayA"
          }
         },
         "etag": "MkK6LTk2EAfKV-8EBji5P9_pjVM",
         "id": "UCS1u11uPQCrGwhfiQwceayA",
         "kind": "youtube#channel",
         "snippet": {
          "country": "MX",
          "customUrl": "elcuarticopod",
          "description": "Podcast nutritivo y pasteurizado. Conducido por Chucho Roldán @chuchorz, Estefanía León (TW: @estefyleon / IG: @estufania) y Daniel Enrique @eldanielenrique. \n\nÚnete y mira nuestros episodios exclusivos en Patreon: https://www.patreon.com/elcuarticopod\n\nProducido por @chiguirebipolar.",
          "localized": {
           "description": "Podcast nutritivo y pasteurizado. Conducido por Chucho Roldán @chuchorz, Estefanía León (TW: @estefyleon / IG: @estufania) y Daniel Enrique @eldanielenrique. \n\nÚnete y mira nuestros episodios exclusivos en Patreon: https://www.patreon.com/elcuarticopod\n\nProducido por @chiguirebipolar.",
           "title": "El Cuartico"
          },
          "publishedAt": "2020-05-28T15:14:32.746877Z",
          "thumbnails": {
           "default": {
            "height": 88,
            "url": "https://yt3.ggpht.com/ytc/AKedOLQ5yz5FDejzh-yf-ytSKqeS8AOmJMWGvFQ08uGP=s88-c-k-c0x00ffffff-no-rj",
            "width": 88
           },
           "high": {
            "height": 800,
            "url": "https://yt3.ggpht.com/ytc/AKedOLQ5yz5FDejzh-yf-ytSKqeS8AOmJMWGvFQ08uGP=s800-c-k-c0x00ffffff-no-rj",
            "width": 800
           },
           "medium": {
            "height": 240,
            "url": "https://yt3.ggpht.com/ytc/AKedOLQ5yz5FDejzh-yf-ytSKqeS8AOmJMWGvFQ08uGP=s240-c-k-c0x00ffffff-no-rj",
            "width": 240
           }
          },
          "title": "El Cuartico"
         },
         "statistics": {
          "hiddenSubscriberCount": false,
          "subscriberCount": "33400",
          "videoCount": "127",
          "viewCount": "4026089"
         }
        },
        {
         "contentDetails": {
          "relatedPlaylists": {
           "likes": "",
           "uploads": "UUQS3PooptNYNhs4-RIl-a2A"
          }
         },
         "etag": "-HJKa4R8XNegbB5fydBUzyfJvPM",
         "id": "UCQS3PooptNYNhs4-RIl-a2A",
         "kind": "youtube#channel",
         "snippet": {
          "country": "MX",
          "customUrl": "jasyyneisser",
          "description": "Somos Jasy y Neisser. ",
          "localized": {
           "description": "Somos Jasy y Neisser. ",
           "title": "Jasy y Neisser"
          },
          "publishedAt": "2021-06-03T15:47:32.076958Z",
          "thumbnails": {
           "default": {
            "height": 88,
            "url": "https://yt3.ggpht.com/xm1RxYekhmpNqiLChJsdu949bDrr3VToT2a-x-Y4chGdP_HZHJUwAh1ObVi2OTbLVGIgHn9A=s88-c-k-c0x00ffffff-no-rj",
            "width": 88
           },
           "high": {
            "height": 800,
            "url": "https://yt3.ggpht.com/xm1RxYekhmpNqiLChJsdu949bDrr3VToT2a-x-Y4chGdP_HZHJUwAh1ObVi2OTbLVGIgHn9A=s800-c-k-c0x00ffffff-no-rj",
            "width": 800
           },
           "medium": {
            "height": 240,
            "url": "https://yt3.ggpht.com/xm1RxYekhmpNqiLChJsdu949bDrr3VToT2a-x-Y4chGdP_HZHJUwAh1ObVi2OTbLVGIgHn9A=s240-c-k-c0x00ffffff-no-rj",
            "width": 240
           }
          },
          "title": "Jasy y Neisser"
         },
         "statistics": {
          "hiddenSubscriberCount": false,
          "subscriberCount": "9950",
          "videoCount": "64",
          "viewCount": "422384"
         }
        },
        {
         "contentDetails": {
          "relatedPlaylists": {
           "likes": "",
           "uploads": "UUxS_BFN-UtDEFp8p6vugsZQ"
          }
         },
         "etag": "7oVHEyjKXaK5PaC68YFDhDVmLZk",
         "id": "UCxS_BFN-UtDEFp8p6vugsZQ",
         "kind": "youtube#channel",
         "snippet": {
          "country": "US",
          "customUrl": "ledvarela",
          "description": "Canal Oficial de Led Varela\n\n\nINSTAGRAM: https://instagram.com/LedVarelaBargallo\n\nTWITTER: http://twitter.com/LedVarela\n\nFACEBOOK: http://www.facebook.com/LedVarela",
          "localized": {
           "description": "Canal Oficial de Led Varela\n\n\nINSTAGRAM: https://instagram.com/LedVarelaBargallo\n\nTWITTER: http://twitter.com/LedVarela\n\nFACEBOOK: http://www.facebook.com/LedVarela",
           "title": "Led Varela"
          },
          "publishedAt": "2008-06-03T20:34:07Z",
          "thumbnails": {
           "default": {
            "height": 88,
            "url": "https://yt3.ggpht.com/ytc/AKedOLQBhFgQfsSQVCCCzD_OF2GK7l6KJ6O9WSH3FFdoBQ=s88-c-k-c0x00ffffff-no-rj",
            "width": 88
           },
           "high": {
            "height": 800,
            "url": "https://yt3.ggpht.com/ytc/AKedOLQBhFgQfsSQVCCCzD_OF2GK7l6KJ6O9WSH3FFdoBQ=s800-c-k-c0x00ffffff-no-rj",
            "width": 800
           },
           "medium": {
            "height": 240,
            "url": "https://yt3.ggpht.com/ytc/AKedOLQBhFgQfsSQVCCCzD_OF2GK7l6KJ6O9WSH3FFdoBQ=s240-c-k-c0x00ffffff-no-rj",
            "width": 240
           }
          },
          "title": "Led Varela"
         },
         "statistics": {
          "hiddenSubscriberCount": false,
          "subscriberCount": "193000",
          "videoCount": "210",
          "viewCount": "14299156"
         }
        }
       ],
       "kind": "youtube#channelListResponse",
       "pageInfo": {
        "resultsPerPage": 5,
        "totalResults": 8
       }
      },
      "text/plain": [
       "<IPython.core.display.JSON object>"
      ]
     },
     "execution_count": 8,
     "metadata": {
      "application/json": {
       "expanded": false,
       "root": "root"
      }
     },
     "output_type": "execute_result"
    }
   ],
   "source": [
    "#code snipet from the api documentation modified to use the api key\n",
    "#request the data from the YT channels\n",
    "request = youtube.channels().list(\n",
    "    part=\"snippet,contentDetails,statistics\",\n",
    "    id=','.join(channel_ids)\n",
    ")\n",
    "\n",
    "response = request.execute()\n",
    "\n",
    "JSON(response) "
   ]
  },
  {
   "cell_type": "code",
   "execution_count": 9,
   "metadata": {},
   "outputs": [],
   "source": [
    "#function to get the data from the channels\n",
    "def get_channels(youtube, channel_ids):\n",
    "    \n",
    "    all_data = []\n",
    "    \n",
    "    request = youtube.channels().list(\n",
    "        part=\"snippet,contentDetails,statistics\",\n",
    "        id=','.join(channel_ids)\n",
    "    )\n",
    "\n",
    "    response = request.execute()\n",
    "\n",
    "    JSON(response)\n",
    "    \n",
    "    #loop through items\n",
    "    for item in response['items']:\n",
    "        data = {'channelName': item['snippet']['title'],\n",
    "               'subscribers': item['statistics']['subscriberCount'],\n",
    "                'views': item['statistics']['viewCount'],\n",
    "                'totalVideos': item['statistics']['videoCount'],\n",
    "                'playlist': item['contentDetails']['relatedPlaylists']['uploads']\n",
    "               }\n",
    "        \n",
    "        all_data.append(data)\n",
    "        \n",
    "    return(pd.DataFrame(all_data))"
   ]
  },
  {
   "cell_type": "code",
   "execution_count": 10,
   "metadata": {},
   "outputs": [],
   "source": [
    "channel_stats = get_channels(youtube, channel_ids)"
   ]
  },
  {
   "cell_type": "code",
   "execution_count": 11,
   "metadata": {},
   "outputs": [
    {
     "data": {
      "text/html": [
       "<div>\n",
       "<style scoped>\n",
       "    .dataframe tbody tr th:only-of-type {\n",
       "        vertical-align: middle;\n",
       "    }\n",
       "\n",
       "    .dataframe tbody tr th {\n",
       "        vertical-align: top;\n",
       "    }\n",
       "\n",
       "    .dataframe thead th {\n",
       "        text-align: right;\n",
       "    }\n",
       "</style>\n",
       "<table border=\"1\" class=\"dataframe\">\n",
       "  <thead>\n",
       "    <tr style=\"text-align: right;\">\n",
       "      <th></th>\n",
       "      <th>channelName</th>\n",
       "      <th>subscribers</th>\n",
       "      <th>views</th>\n",
       "      <th>totalVideos</th>\n",
       "      <th>playlist</th>\n",
       "    </tr>\n",
       "  </thead>\n",
       "  <tbody>\n",
       "    <tr>\n",
       "      <th>0</th>\n",
       "      <td>El Cuartico</td>\n",
       "      <td>33400</td>\n",
       "      <td>4026089</td>\n",
       "      <td>127</td>\n",
       "      <td>UUS1u11uPQCrGwhfiQwceayA</td>\n",
       "    </tr>\n",
       "    <tr>\n",
       "      <th>1</th>\n",
       "      <td>nanutria</td>\n",
       "      <td>114000</td>\n",
       "      <td>10209515</td>\n",
       "      <td>234</td>\n",
       "      <td>UU7Iabt-Qo5I5c8-cnwTHiWg</td>\n",
       "    </tr>\n",
       "    <tr>\n",
       "      <th>2</th>\n",
       "      <td>Escuela de Nada</td>\n",
       "      <td>256000</td>\n",
       "      <td>39924159</td>\n",
       "      <td>405</td>\n",
       "      <td>UUZbq1qvbQzxDGUyuoPnF4LQ</td>\n",
       "    </tr>\n",
       "    <tr>\n",
       "      <th>3</th>\n",
       "      <td>Led Varela</td>\n",
       "      <td>193000</td>\n",
       "      <td>14299156</td>\n",
       "      <td>210</td>\n",
       "      <td>UUxS_BFN-UtDEFp8p6vugsZQ</td>\n",
       "    </tr>\n",
       "    <tr>\n",
       "      <th>4</th>\n",
       "      <td>Nos Reiremos de Esto!</td>\n",
       "      <td>82600</td>\n",
       "      <td>20469224</td>\n",
       "      <td>422</td>\n",
       "      <td>UUZ4-r3oIR6xgiA7V7_F4pFw</td>\n",
       "    </tr>\n",
       "    <tr>\n",
       "      <th>5</th>\n",
       "      <td>El Podcast de La Diversión</td>\n",
       "      <td>1610</td>\n",
       "      <td>43645</td>\n",
       "      <td>43</td>\n",
       "      <td>UUHlFByiv8ia44ArSWghLI3w</td>\n",
       "    </tr>\n",
       "    <tr>\n",
       "      <th>6</th>\n",
       "      <td>Jóse R Guzmán</td>\n",
       "      <td>87700</td>\n",
       "      <td>7036908</td>\n",
       "      <td>344</td>\n",
       "      <td>UUo8ifS6JKfDqV33pwAMeV0Q</td>\n",
       "    </tr>\n",
       "    <tr>\n",
       "      <th>7</th>\n",
       "      <td>Jasy y Neisser</td>\n",
       "      <td>9950</td>\n",
       "      <td>422384</td>\n",
       "      <td>64</td>\n",
       "      <td>UUQS3PooptNYNhs4-RIl-a2A</td>\n",
       "    </tr>\n",
       "  </tbody>\n",
       "</table>\n",
       "</div>"
      ],
      "text/plain": [
       "                  channelName subscribers     views totalVideos  \\\n",
       "0                 El Cuartico       33400   4026089         127   \n",
       "1                    nanutria      114000  10209515         234   \n",
       "2             Escuela de Nada      256000  39924159         405   \n",
       "3                  Led Varela      193000  14299156         210   \n",
       "4       Nos Reiremos de Esto!       82600  20469224         422   \n",
       "5  El Podcast de La Diversión        1610     43645          43   \n",
       "6               Jóse R Guzmán       87700   7036908         344   \n",
       "7              Jasy y Neisser        9950    422384          64   \n",
       "\n",
       "                   playlist  \n",
       "0  UUS1u11uPQCrGwhfiQwceayA  \n",
       "1  UU7Iabt-Qo5I5c8-cnwTHiWg  \n",
       "2  UUZbq1qvbQzxDGUyuoPnF4LQ  \n",
       "3  UUxS_BFN-UtDEFp8p6vugsZQ  \n",
       "4  UUZ4-r3oIR6xgiA7V7_F4pFw  \n",
       "5  UUHlFByiv8ia44ArSWghLI3w  \n",
       "6  UUo8ifS6JKfDqV33pwAMeV0Q  \n",
       "7  UUQS3PooptNYNhs4-RIl-a2A  "
      ]
     },
     "execution_count": 11,
     "metadata": {},
     "output_type": "execute_result"
    }
   ],
   "source": [
    "channel_stats"
   ]
  },
  {
   "cell_type": "code",
   "execution_count": 12,
   "metadata": {},
   "outputs": [],
   "source": [
    "#channel_stats.dtypes"
   ]
  },
  {
   "cell_type": "code",
   "execution_count": 13,
   "metadata": {},
   "outputs": [],
   "source": [
    "channel_stats=channel_stats.astype({'subscribers':int, 'views':int, 'totalVideos':int})"
   ]
  },
  {
   "cell_type": "code",
   "execution_count": 14,
   "metadata": {},
   "outputs": [],
   "source": [
    "#channel_stats.dtypes"
   ]
  },
  {
   "cell_type": "code",
   "execution_count": 15,
   "metadata": {},
   "outputs": [],
   "source": [
    "import seaborn as sns\n",
    "from matplotlib import pyplot as plt\n",
    "plt.figure(figsize=(4,7))\n",
    "%matplotlib inline"
   ]
  },
  {
   "cell_type": "code",
   "execution_count": 16,
   "metadata": {},
   "outputs": [
    {
     "data": {
      "image/png": "[encoded data removed]",
      "text/plain": [
       "<Figure size 432x288 with 1 Axes>"
      ]
     },
     "metadata": {
      "needs_background": "light"
     },
     "output_type": "display_data"
    }
   ],
   "source": [
    "ax = sns.barplot(x='channelName', y='views', data=channel_stats.sort_values('views', ascending=False))\n",
    "plot = ax.set_xticklabels(ax.get_xticklabels(), rotation=90)"
   ]
  },
  {
   "cell_type": "code",
   "execution_count": 17,
   "metadata": {},
   "outputs": [],
   "source": [
    "#the playlist code of the YT channels\n",
    "\n",
    "#videoList = ['UUZ4-r3oIR6xgiA7V7_F4pFw', \n",
    "              #'UUQS3PooptNYNhs4-RIl-a2A', \n",
    "              #'UUo8ifS6JKfDqV33pwAMeV0Q', \n",
    "              #'UUS1u11uPQCrGwhfiQwceayA', \n",
    "              #'UU7Iabt-Qo5I5c8-cnwTHiWg', \n",
    "              #'UUZbq1qvbQzxDGUyuoPnF4LQ', \n",
    "              #'UUxS_BFN-UtDEFp8p6vugsZQ', \n",
    "              #'UUHlFByiv8ia44ArSWghLI3w']"
   ]
  },
  {
   "cell_type": "code",
   "execution_count": 18,
   "metadata": {},
   "outputs": [],
   "source": [
    "#videoList = list(channel_stats[\"playlist\"])\n",
    "\n",
    "#print(videoList)"
   ]
  },
  {
   "cell_type": "code",
   "execution_count": 19,
   "metadata": {},
   "outputs": [
    {
     "data": {
      "application/json": {
       "etag": "EymVq1EvqiRADRDNXhb0YihaJb0",
       "items": [
        {
         "contentDetails": {
          "videoId": "yZ6hb_0JRyY",
          "videoPublishedAt": "2022-05-09T00:00:48Z"
         },
         "etag": "6dtLMtRd0YhNk9fT4AbSRO4BDCE",
         "id": "VVVaYnExcXZiUXp4REdVeXVvUG5GNExRLnlaNmhiXzBKUnlZ",
         "kind": "youtube#playlistItem",
         "snippet": {
          "channelId": "UCZbq1qvbQzxDGUyuoPnF4LQ",
          "channelTitle": "Escuela de Nada",
          "description": "En esta ocasión Chris, Leo y Nacho hacen un recuento de su viaje por Europa. Además hablan sobre el nuevo disco de Bad Bunny, la película de Dr. Strange y el Real Madrid.\n\nSi quieres ver más contenido de Escuela de Nada, suscríbete a Patreon donde por $5 al mes tendrás acceso a un episodio exclusivo cada viernes y contenido extra los martes (Scringeshot, Examen Oral, Recomendaciones y más). También podrás elegir el tópico principal de un episodio al mes en nuestro Tema de Oro y además tendrás acceso a los primeros 100 episodios del podcast.https://www.patreon.com/escueladenada\n\n\nENTRADAS SEMPER BICHOS EUROPA: www.semperbichos.con\n\n\nCompra nuestra masterclass Cómo hacer tu podcast: https://academia-edn.teachable.com\n\nCompra nuestra Ropita (merch oficial) con envíos a casi todo el planeta: \nhttps://represent.com/store/escueladenada\n\nSi estás en Venezuela puedes encontrarla aquí: \nhttps://covasve.com/\n\nTambién te puedes suscribir totalmente gratis a nuestro newsletter que enviamos cada miércoles: https://tinyurl.com/EDNnewsletter\n\nEscúchanos en Spotify https://open.spotify.com/show/4xOM98A8Es30eGevw6tYwe?si=QwORHX8BTMyzKxJOa9_oZQ&dl_branch=1\n\nY por último, síguenos en nuestras redes sociales:\n\nESCUELA DE NADA \n\nInstagram: https://www.instagram.com/escueladenada/\n\nTwitter: https://twitter.com/escueladenada\n\nTik Tok: https://www.tiktok.com/@escueladenada\n\nFacebook: https://www.facebook.com/escueladenada\n\nDiscord: https://discord.com/invite/S8bYM6A\n\n\nLEO ROJAS \n\nTwitter: https://twitter.com/leo\n\nInstagram:  https://www.instagram.com/leorojas1/\n\nCHRIS ANDRADE: \n\nTwitter: https://twitter.com/minombreeschris\n\nInstagram: https://www.instagram.com/minombreeschris/\n\n\nNACHO REDONDO: \n\nTwitter: https://twitter.com/nachored\n\nInstagram: https://www.instagram.com/nachored/",
          "playlistId": "UUZbq1qvbQzxDGUyuoPnF4LQ",
          "position": 0,
          "publishedAt": "2022-05-09T00:00:48Z",
          "resourceId": {
           "kind": "youtube#video",
           "videoId": "yZ6hb_0JRyY"
          },
          "thumbnails": {
           "default": {
            "height": 90,
            "url": "https://i.ytimg.com/vi/yZ6hb_0JRyY/default.jpg",
            "width": 120
           },
           "high": {
            "height": 360,
            "url": "https://i.ytimg.com/vi/yZ6hb_0JRyY/hqdefault.jpg",
            "width": 480
           },
           "maxres": {
            "height": 720,
            "url": "https://i.ytimg.com/vi/yZ6hb_0JRyY/maxresdefault.jpg",
            "width": 1280
           },
           "medium": {
            "height": 180,
            "url": "https://i.ytimg.com/vi/yZ6hb_0JRyY/mqdefault.jpg",
            "width": 320
           },
           "standard": {
            "height": 480,
            "url": "https://i.ytimg.com/vi/yZ6hb_0JRyY/sddefault.jpg",
            "width": 640
           }
          },
          "title": "Estatus de gira: Bad Bunny, Dr. Strange y el Real Madrid - EP #370",
          "videoOwnerChannelId": "UCZbq1qvbQzxDGUyuoPnF4LQ",
          "videoOwnerChannelTitle": "Escuela de Nada"
         }
        },
        {
         "contentDetails": {
          "videoId": "C7bk0wpBmgk",
          "videoPublishedAt": "2022-05-07T20:30:51Z"
         },
         "etag": "siS2zXeTNGZVDsGXNtK2hbE5mWw",
         "id": "VVVaYnExcXZiUXp4REdVeXVvUG5GNExRLkM3Ymswd3BCbWdr",
         "kind": "youtube#playlistItem",
         "snippet": {
          "channelId": "UCZbq1qvbQzxDGUyuoPnF4LQ",
          "channelTitle": "Escuela de Nada",
          "description": "Un pequeño trailer de lo que sucedió el pasado viernes en Patreon donde recibimos a José Rafael Guzmán y pintamos su silueta mientras nos echaba cuentos.\n\nEn esta ocasión Chris, Leo y Nacho pintan la fina silueta del cuerpo de Jose Rafael Guzman mientras hablan de cómo es trabajar en la televisión.\n\nPatreon de Jóse Rafael: https://www.patreon.com/join/JoseRafaelGuzman\n\nSi quieres ver más contenido de Escuela de Nada, suscríbete a Patreon donde por $5 al mes tendrás acceso a un episodio exclusivo cada viernes y contenido extra los martes (Scringeshot, Examen Oral, Recomendaciones y más). También podrás elegir el tópico principal de un episodio al mes en nuestro Tema de Oro y además tendrás acceso a los primeros 100 episodios del podcast.https://www.patreon.com/escueladenada\n\n\nENTRADAS SEMPER BICHOS EUROPA: www.semperbichos.con\n\n\nCompra nuestra masterclass Cómo hacer tu podcast: https://academia-edn.teachable.com\n\nCompra nuestra Ropita (merch oficial) con envíos a casi todo el planeta: \nhttps://represent.com/store/escueladenada\n\nSi estás en Venezuela puedes encontrarla aquí: \nhttps://covasve.com/\n\nTambién te puedes suscribir totalmente gratis a nuestro newsletter que enviamos cada miércoles: https://tinyurl.com/EDNnewsletter\n\nEscúchanos en Spotify https://open.spotify.com/show/4xOM98A8Es30eGevw6tYwe?si=QwORHX8BTMyzKxJOa9_oZQ&dl_branch=1\n\nY por último, síguenos en nuestras redes sociales:\n\nESCUELA DE NADA \n\nInstagram: https://www.instagram.com/escueladenada/\n\nTwitter: https://twitter.com/escueladenada\n\nTik Tok: https://www.tiktok.com/@escueladenada\n\nFacebook: https://www.facebook.com/escueladenada\n\nDiscord: https://discord.com/invite/S8bYM6A\n\n\nLEO ROJAS \n\nTwitter: https://twitter.com/leo\n\nInstagram:  https://www.instagram.com/leorojas1/\n\nCHRIS ANDRADE: \n\nTwitter: https://twitter.com/minombreeschris\n\nInstagram: https://www.instagram.com/minombreeschris/\n\n\nNACHO REDONDO: \n\nTwitter: https://twitter.com/nachored\n\nInstagram: https://www.instagram.com/nachored/",
          "playlistId": "UUZbq1qvbQzxDGUyuoPnF4LQ",
          "position": 1,
          "publishedAt": "2022-05-07T20:30:51Z",
          "resourceId": {
           "kind": "youtube#video",
           "videoId": "C7bk0wpBmgk"
          },
          "thumbnails": {
           "default": {
            "height": 90,
            "url": "https://i.ytimg.com/vi/C7bk0wpBmgk/default.jpg",
            "width": 120
           },
           "high": {
            "height": 360,
            "url": "https://i.ytimg.com/vi/C7bk0wpBmgk/hqdefault.jpg",
            "width": 480
           },
           "maxres": {
            "height": 720,
            "url": "https://i.ytimg.com/vi/C7bk0wpBmgk/maxresdefault.jpg",
            "width": 1280
           },
           "medium": {
            "height": 180,
            "url": "https://i.ytimg.com/vi/C7bk0wpBmgk/mqdefault.jpg",
            "width": 320
           },
           "standard": {
            "height": 480,
            "url": "https://i.ytimg.com/vi/C7bk0wpBmgk/sddefault.jpg",
            "width": 640
           }
          },
          "title": "La mamá de Jóse pensaba que hacía brujería",
          "videoOwnerChannelId": "UCZbq1qvbQzxDGUyuoPnF4LQ",
          "videoOwnerChannelTitle": "Escuela de Nada"
         }
        },
        {
         "contentDetails": {
          "videoId": "H5JUu8Lgjt8",
          "videoPublishedAt": "2022-05-05T00:00:25Z"
         },
         "etag": "OLtjVWChA8j7ET53SxmxFttb5es",
         "id": "VVVaYnExcXZiUXp4REdVeXVvUG5GNExRLkg1SlV1OExnanQ4",
         "kind": "youtube#playlistItem",
         "snippet": {
          "channelId": "UCZbq1qvbQzxDGUyuoPnF4LQ",
          "channelTitle": "Escuela de Nada",
          "description": "En esta ocasión Chris, Leo y Nacho reciben a Jose Rafael Guzmán para hablar de su carrera, las decisiones que lo llevaron a grabar Caminantes y además de la definición de la locura.\n\nPatreon de Jóse Rafael: https://www.patreon.com/join/JoseRafaelGuzman\n\nSi quieres ver más contenido de Escuela de Nada, suscríbete a Patreon donde por $5 al mes tendrás acceso a un episodio exclusivo cada viernes y contenido extra los martes (Scringeshot, Examen Oral, Recomendaciones y más). También podrás elegir el tópico principal de un episodio al mes en nuestro Tema de Oro y además tendrás acceso a los primeros 100 episodios del podcast.https://www.patreon.com/escueladenada\n\n\nENTRADAS SEMPER BICHOS EUROPA: www.semperbichos.con\n\n\nCompra nuestra masterclass Cómo hacer tu podcast: https://academia-edn.teachable.com\n\nCompra nuestra Ropita (merch oficial) con envíos a casi todo el planeta: \nhttps://represent.com/store/escueladenada\n\nSi estás en Venezuela puedes encontrarla aquí: \nhttps://covasve.com/\n\nTambién te puedes suscribir totalmente gratis a nuestro newsletter que enviamos cada miércoles: https://tinyurl.com/EDNnewsletter\n\nEscúchanos en Spotify https://open.spotify.com/show/4xOM98A8Es30eGevw6tYwe?si=QwORHX8BTMyzKxJOa9_oZQ&dl_branch=1\n\nY por último, síguenos en nuestras redes sociales:\n\nESCUELA DE NADA \n\nInstagram: https://www.instagram.com/escueladenada/\n\nTwitter: https://twitter.com/escueladenada\n\nTik Tok: https://www.tiktok.com/@escueladenada\n\nFacebook: https://www.facebook.com/escueladenada\n\nDiscord: https://discord.com/invite/S8bYM6A\n\n\nLEO ROJAS \n\nTwitter: https://twitter.com/leo\n\nInstagram:  https://www.instagram.com/leorojas1/\n\nCHRIS ANDRADE: \n\nTwitter: https://twitter.com/minombreeschris\n\nInstagram: https://www.instagram.com/minombreeschris/\n\n\nNACHO REDONDO: \n\nTwitter: https://twitter.com/nachored\n\nInstagram: https://www.instagram.com/nachored/",
          "playlistId": "UUZbq1qvbQzxDGUyuoPnF4LQ",
          "position": 2,
          "publishedAt": "2022-05-05T00:00:25Z",
          "resourceId": {
           "kind": "youtube#video",
           "videoId": "H5JUu8Lgjt8"
          },
          "thumbnails": {
           "default": {
            "height": 90,
            "url": "https://i.ytimg.com/vi/H5JUu8Lgjt8/default.jpg",
            "width": 120
           },
           "high": {
            "height": 360,
            "url": "https://i.ytimg.com/vi/H5JUu8Lgjt8/hqdefault.jpg",
            "width": 480
           },
           "maxres": {
            "height": 720,
            "url": "https://i.ytimg.com/vi/H5JUu8Lgjt8/maxresdefault.jpg",
            "width": 1280
           },
           "medium": {
            "height": 180,
            "url": "https://i.ytimg.com/vi/H5JUu8Lgjt8/mqdefault.jpg",
            "width": 320
           },
           "standard": {
            "height": 480,
            "url": "https://i.ytimg.com/vi/H5JUu8Lgjt8/sddefault.jpg",
            "width": 640
           }
          },
          "title": "La definición de la locura feat. Jóse Rafael Guzmán - EP #369",
          "videoOwnerChannelId": "UCZbq1qvbQzxDGUyuoPnF4LQ",
          "videoOwnerChannelTitle": "Escuela de Nada"
         }
        },
        {
         "contentDetails": {
          "videoId": "61tABNIxk18",
          "videoPublishedAt": "2022-05-02T00:01:35Z"
         },
         "etag": "pvZ2gGEZIi0KtDw2F9VHnhx6-ys",
         "id": "VVVaYnExcXZiUXp4REdVeXVvUG5GNExRLjYxdEFCTkl4azE4",
         "kind": "youtube#playlistItem",
         "snippet": {
          "channelId": "UCZbq1qvbQzxDGUyuoPnF4LQ",
          "channelTitle": "Escuela de Nada",
          "description": "En esta ocasión Leo, Chris y Nacho hablan sobre los masajes, la meditación y cómo alcanzar el nivel máximo de relajación.\n\nSi quieres ver más contenido de Escuela de Nada, suscríbete a Patreon donde por $5 al mes tendrás acceso a un episodio exclusivo cada viernes y contenido extra los martes (Scringeshot, Examen Oral, Recomendaciones y más). También podrás elegir el tópico principal de un episodio al mes en nuestro Tema de Oro y además tendrás acceso a los primeros 100 episodios del podcast.https://www.patreon.com/escueladenada\n\n\nENTRADAS SEMPER BICHOS EUROPA: www.semperbichos.con\n\n\nCompra nuestra masterclass Cómo hacer tu podcast: https://academia-edn.teachable.com\n\nCompra nuestra Ropita (merch oficial) con envíos a casi todo el planeta: \nhttps://represent.com/store/escueladenada\n\nSi estás en Venezuela puedes encontrarla aquí: \nhttps://covasve.com/\n\nTambién te puedes suscribir totalmente gratis a nuestro newsletter que enviamos cada miércoles: https://tinyurl.com/EDNnewsletter\n\nEscúchanos en Spotify https://open.spotify.com/show/4xOM98A8Es30eGevw6tYwe?si=QwORHX8BTMyzKxJOa9_oZQ&dl_branch=1\n\nY por último, síguenos en nuestras redes sociales:\n\nESCUELA DE NADA \n\nInstagram: https://www.instagram.com/escueladenada/\n\nTwitter: https://twitter.com/escueladenada\n\nTik Tok: https://www.tiktok.com/@escueladenada\n\nFacebook: https://www.facebook.com/escueladenada\n\nDiscord: https://discord.com/invite/S8bYM6A\n\n\nLEO ROJAS \n\nTwitter: https://twitter.com/leo\n\nInstagram:  https://www.instagram.com/leorojas1/\n\nCHRIS ANDRADE: \n\nTwitter: https://twitter.com/minombreeschris\n\nInstagram: https://www.instagram.com/minombreeschris/\n\n\nNACHO REDONDO: \n\nTwitter: https://twitter.com/nachored\n\nInstagram: https://www.instagram.com/nachored/",
          "playlistId": "UUZbq1qvbQzxDGUyuoPnF4LQ",
          "position": 3,
          "publishedAt": "2022-05-02T00:01:35Z",
          "resourceId": {
           "kind": "youtube#video",
           "videoId": "61tABNIxk18"
          },
          "thumbnails": {
           "default": {
            "height": 90,
            "url": "https://i.ytimg.com/vi/61tABNIxk18/default.jpg",
            "width": 120
           },
           "high": {
            "height": 360,
            "url": "https://i.ytimg.com/vi/61tABNIxk18/hqdefault.jpg",
            "width": 480
           },
           "maxres": {
            "height": 720,
            "url": "https://i.ytimg.com/vi/61tABNIxk18/maxresdefault.jpg",
            "width": 1280
           },
           "medium": {
            "height": 180,
            "url": "https://i.ytimg.com/vi/61tABNIxk18/mqdefault.jpg",
            "width": 320
           },
           "standard": {
            "height": 480,
            "url": "https://i.ytimg.com/vi/61tABNIxk18/sddefault.jpg",
            "width": 640
           }
          },
          "title": "Los masajes y la relajación máxima - EP #368",
          "videoOwnerChannelId": "UCZbq1qvbQzxDGUyuoPnF4LQ",
          "videoOwnerChannelTitle": "Escuela de Nada"
         }
        },
        {
         "contentDetails": {
          "videoId": "ttcbONWZ2C4",
          "videoPublishedAt": "2022-05-01T20:13:54Z"
         },
         "etag": "yN5LtFkbmhP3BN8-fscX8KpAbx0",
         "id": "VVVaYnExcXZiUXp4REdVeXVvUG5GNExRLnR0Y2JPTldaMkM0",
         "kind": "youtube#playlistItem",
         "snippet": {
          "channelId": "UCZbq1qvbQzxDGUyuoPnF4LQ",
          "channelTitle": "Escuela de Nada",
          "description": "Un pequeño trailer de lo que sucedió el pasado viernes en Patreon en una nueva edición del Tema de Oro hablamos sobre si los deportistas merecen lo que ganan.\n\nSi quieres ver más contenido de Escuela de Nada, suscríbete a Patreon donde por $5 al mes tendrás acceso a un episodio exclusivo cada viernes y contenido extra los martes (Scringeshot, Examen Oral, Recomendaciones y más). También podrás elegir el tópico principal de un episodio al mes en nuestro Tema de Oro y además tendrás acceso a los primeros 100 episodios del podcast.https://www.patreon.com/escueladenada\n\n\nENTRADAS SEMPER BICHOS EUROPA: www.semperbichos.con\n\n\nCompra nuestra masterclass Cómo hacer tu podcast: https://academia-edn.teachable.com\n\nCompra nuestra Ropita (merch oficial) con envíos a casi todo el planeta: \nhttps://represent.com/store/escueladenada\n\nSi estás en Venezuela puedes encontrarla aquí: \nhttps://covasve.com/\n\nTambién te puedes suscribir totalmente gratis a nuestro newsletter que enviamos cada miércoles: https://tinyurl.com/EDNnewsletter\n\nEscúchanos en Spotify https://open.spotify.com/show/4xOM98A8Es30eGevw6tYwe?si=QwORHX8BTMyzKxJOa9_oZQ&dl_branch=1\n\nY por último, síguenos en nuestras redes sociales:\n\nESCUELA DE NADA \n\nInstagram: https://www.instagram.com/escueladenada/\n\nTwitter: https://twitter.com/escueladenada\n\nTik Tok: https://www.tiktok.com/@escueladenada\n\nFacebook: https://www.facebook.com/escueladenada\n\nDiscord: https://discord.com/invite/S8bYM6A\n\n\nLEO ROJAS \n\nTwitter: https://twitter.com/leo\n\nInstagram:  https://www.instagram.com/leorojas1/\n\nCHRIS ANDRADE: \n\nTwitter: https://twitter.com/minombreeschris\n\nInstagram: https://www.instagram.com/minombreeschris/\n\n\nNACHO REDONDO: \n\nTwitter: https://twitter.com/nachored\n\nInstagram: https://www.instagram.com/nachored/",
          "playlistId": "UUZbq1qvbQzxDGUyuoPnF4LQ",
          "position": 4,
          "publishedAt": "2022-05-01T20:13:54Z",
          "resourceId": {
           "kind": "youtube#video",
           "videoId": "ttcbONWZ2C4"
          },
          "thumbnails": {
           "default": {
            "height": 90,
            "url": "https://i.ytimg.com/vi/ttcbONWZ2C4/default.jpg",
            "width": 120
           },
           "high": {
            "height": 360,
            "url": "https://i.ytimg.com/vi/ttcbONWZ2C4/hqdefault.jpg",
            "width": 480
           },
           "maxres": {
            "height": 720,
            "url": "https://i.ytimg.com/vi/ttcbONWZ2C4/maxresdefault.jpg",
            "width": 1280
           },
           "medium": {
            "height": 180,
            "url": "https://i.ytimg.com/vi/ttcbONWZ2C4/mqdefault.jpg",
            "width": 320
           },
           "standard": {
            "height": 480,
            "url": "https://i.ytimg.com/vi/ttcbONWZ2C4/sddefault.jpg",
            "width": 640
           }
          },
          "title": "La importancia de la educación financiera en el deporte",
          "videoOwnerChannelId": "UCZbq1qvbQzxDGUyuoPnF4LQ",
          "videoOwnerChannelTitle": "Escuela de Nada"
         }
        }
       ],
       "kind": "youtube#playlistItemListResponse",
       "nextPageToken": "EAAaBlBUOkNBVQ",
       "pageInfo": {
        "resultsPerPage": 5,
        "totalResults": 405
       }
      },
      "text/plain": [
       "<IPython.core.display.JSON object>"
      ]
     },
     "execution_count": 19,
     "metadata": {
      "application/json": {
       "expanded": false,
       "root": "root"
      }
     },
     "output_type": "execute_result"
    }
   ],
   "source": [
    "#code snippet from the api documentation used to get data of the video\n",
    "\n",
    "request = youtube.playlistItems().list(\n",
    "    part=\"snippet, contentDetails\",\n",
    "    playlistId='UUZbq1qvbQzxDGUyuoPnF4LQ'\n",
    ")\n",
    "response = request.execute()\n",
    "\n",
    "JSON(response)"
   ]
  },
  {
   "cell_type": "code",
   "execution_count": 20,
   "metadata": {},
   "outputs": [],
   "source": [
    "#making the snippet to get the video data into a function\n",
    "\n",
    "playlist_id = 'UUZbq1qvbQzxDGUyuoPnF4LQ'\n",
    "\n",
    "def get_video_ids(youtube, playlist_id):\n",
    "    \n",
    "    video_ids=[]\n",
    "    \n",
    "    request = youtube.playlistItems().list(\n",
    "        part=\"snippet, contentDetails\",\n",
    "        playlistId=playlist_id,\n",
    "        maxResults=50\n",
    "    )\n",
    "    response = request.execute()\n",
    "    \n",
    "    for item in response['items']:\n",
    "        video_ids.append(item['contentDetails']['videoId'])\n",
    "        \n",
    "    next_page_token = response.get('nextPageToken')\n",
    "    \n",
    "    while next_page_token is not None:\n",
    "        request = youtube.playlistItems().list(\n",
    "            part=\"contentDetails\",\n",
    "            playlistId=playlist_id,\n",
    "            maxResults=50,\n",
    "            pageToken = next_page_token\n",
    "        )\n",
    "        response = request.execute()\n",
    "    \n",
    "        for item in response['items']:\n",
    "            video_ids.append(item['contentDetails']['videoId'])\n",
    "            \n",
    "        next_page_token = response.get('nextPageToken')\n",
    "        \n",
    "    return video_ids"
   ]
  },
  {
   "cell_type": "code",
   "execution_count": 21,
   "metadata": {},
   "outputs": [],
   "source": [
    "video_ids = get_video_ids(youtube, playlist_id)"
   ]
  },
  {
   "cell_type": "code",
   "execution_count": 22,
   "metadata": {},
   "outputs": [
    {
     "data": {
      "text/plain": [
       "405"
      ]
     },
     "execution_count": 22,
     "metadata": {},
     "output_type": "execute_result"
    }
   ],
   "source": [
    "#counting the number of videos\n",
    "len(video_ids)"
   ]
  },
  {
   "cell_type": "code",
   "execution_count": 23,
   "metadata": {},
   "outputs": [
    {
     "data": {
      "application/json": {
       "etag": "VXrux0KLS_TEd4_kWH3yGUkuH1M",
       "items": [
        {
         "contentDetails": {
          "caption": "false",
          "contentRating": {},
          "definition": "hd",
          "dimension": "2d",
          "duration": "PT44M",
          "licensedContent": true,
          "projection": "rectangular"
         },
         "etag": "0dl9scQDVkE3Mp3LVYBov6LeMYk",
         "id": "yZ6hb_0JRyY",
         "kind": "youtube#video",
         "snippet": {
          "categoryId": "23",
          "channelId": "UCZbq1qvbQzxDGUyuoPnF4LQ",
          "channelTitle": "Escuela de Nada",
          "defaultAudioLanguage": "es-419",
          "description": "En esta ocasión Chris, Leo y Nacho hacen un recuento de su viaje por Europa. Además hablan sobre el nuevo disco de Bad Bunny, la película de Dr. Strange y el Real Madrid.\n\nSi quieres ver más contenido de Escuela de Nada, suscríbete a Patreon donde por $5 al mes tendrás acceso a un episodio exclusivo cada viernes y contenido extra los martes (Scringeshot, Examen Oral, Recomendaciones y más). También podrás elegir el tópico principal de un episodio al mes en nuestro Tema de Oro y además tendrás acceso a los primeros 100 episodios del podcast.https://www.patreon.com/escueladenada\n\n\nENTRADAS SEMPER BICHOS EUROPA: www.semperbichos.con\n\n\nCompra nuestra masterclass Cómo hacer tu podcast: https://academia-edn.teachable.com\n\nCompra nuestra Ropita (merch oficial) con envíos a casi todo el planeta: \nhttps://represent.com/store/escueladenada\n\nSi estás en Venezuela puedes encontrarla aquí: \nhttps://covasve.com/\n\nTambién te puedes suscribir totalmente gratis a nuestro newsletter que enviamos cada miércoles: https://tinyurl.com/EDNnewsletter\n\nEscúchanos en Spotify https://open.spotify.com/show/4xOM98A8Es30eGevw6tYwe?si=QwORHX8BTMyzKxJOa9_oZQ&dl_branch=1\n\nY por último, síguenos en nuestras redes sociales:\n\nESCUELA DE NADA \n\nInstagram: https://www.instagram.com/escueladenada/\n\nTwitter: https://twitter.com/escueladenada\n\nTik Tok: https://www.tiktok.com/@escueladenada\n\nFacebook: https://www.facebook.com/escueladenada\n\nDiscord: https://discord.com/invite/S8bYM6A\n\n\nLEO ROJAS \n\nTwitter: https://twitter.com/leo\n\nInstagram:  https://www.instagram.com/leorojas1/\n\nCHRIS ANDRADE: \n\nTwitter: https://twitter.com/minombreeschris\n\nInstagram: https://www.instagram.com/minombreeschris/\n\n\nNACHO REDONDO: \n\nTwitter: https://twitter.com/nachored\n\nInstagram: https://www.instagram.com/nachored/",
          "liveBroadcastContent": "none",
          "localized": {
           "description": "En esta ocasión Chris, Leo y Nacho hacen un recuento de su viaje por Europa. Además hablan sobre el nuevo disco de Bad Bunny, la película de Dr. Strange y el Real Madrid.\n\nSi quieres ver más contenido de Escuela de Nada, suscríbete a Patreon donde por $5 al mes tendrás acceso a un episodio exclusivo cada viernes y contenido extra los martes (Scringeshot, Examen Oral, Recomendaciones y más). También podrás elegir el tópico principal de un episodio al mes en nuestro Tema de Oro y además tendrás acceso a los primeros 100 episodios del podcast.https://www.patreon.com/escueladenada\n\n\nENTRADAS SEMPER BICHOS EUROPA: www.semperbichos.con\n\n\nCompra nuestra masterclass Cómo hacer tu podcast: https://academia-edn.teachable.com\n\nCompra nuestra Ropita (merch oficial) con envíos a casi todo el planeta: \nhttps://represent.com/store/escueladenada\n\nSi estás en Venezuela puedes encontrarla aquí: \nhttps://covasve.com/\n\nTambién te puedes suscribir totalmente gratis a nuestro newsletter que enviamos cada miércoles: https://tinyurl.com/EDNnewsletter\n\nEscúchanos en Spotify https://open.spotify.com/show/4xOM98A8Es30eGevw6tYwe?si=QwORHX8BTMyzKxJOa9_oZQ&dl_branch=1\n\nY por último, síguenos en nuestras redes sociales:\n\nESCUELA DE NADA \n\nInstagram: https://www.instagram.com/escueladenada/\n\nTwitter: https://twitter.com/escueladenada\n\nTik Tok: https://www.tiktok.com/@escueladenada\n\nFacebook: https://www.facebook.com/escueladenada\n\nDiscord: https://discord.com/invite/S8bYM6A\n\n\nLEO ROJAS \n\nTwitter: https://twitter.com/leo\n\nInstagram:  https://www.instagram.com/leorojas1/\n\nCHRIS ANDRADE: \n\nTwitter: https://twitter.com/minombreeschris\n\nInstagram: https://www.instagram.com/minombreeschris/\n\n\nNACHO REDONDO: \n\nTwitter: https://twitter.com/nachored\n\nInstagram: https://www.instagram.com/nachored/",
           "title": "Estatus de gira: Bad Bunny, Dr. Strange y el Real Madrid - EP #370"
          },
          "publishedAt": "2022-05-09T00:00:48Z",
          "thumbnails": {
           "default": {
            "height": 90,
            "url": "https://i.ytimg.com/vi/yZ6hb_0JRyY/default.jpg",
            "width": 120
           },
           "high": {
            "height": 360,
            "url": "https://i.ytimg.com/vi/yZ6hb_0JRyY/hqdefault.jpg",
            "width": 480
           },
           "maxres": {
            "height": 720,
            "url": "https://i.ytimg.com/vi/yZ6hb_0JRyY/maxresdefault.jpg",
            "width": 1280
           },
           "medium": {
            "height": 180,
            "url": "https://i.ytimg.com/vi/yZ6hb_0JRyY/mqdefault.jpg",
            "width": 320
           },
           "standard": {
            "height": 480,
            "url": "https://i.ytimg.com/vi/yZ6hb_0JRyY/sddefault.jpg",
            "width": 640
           }
          },
          "title": "Estatus de gira: Bad Bunny, Dr. Strange y el Real Madrid - EP #370"
         },
         "statistics": {
          "commentCount": "241",
          "favoriteCount": "0",
          "likeCount": "4016",
          "viewCount": "82081"
         }
        },
        {
         "contentDetails": {
          "caption": "false",
          "contentRating": {},
          "definition": "hd",
          "dimension": "2d",
          "duration": "PT2M30S",
          "licensedContent": true,
          "projection": "rectangular"
         },
         "etag": "DE1IYUluA4eTpGQW7ULbxLBBo1M",
         "id": "C7bk0wpBmgk",
         "kind": "youtube#video",
         "snippet": {
          "categoryId": "23",
          "channelId": "UCZbq1qvbQzxDGUyuoPnF4LQ",
          "channelTitle": "Escuela de Nada",
          "defaultAudioLanguage": "es-419",
          "description": "Un pequeño trailer de lo que sucedió el pasado viernes en Patreon donde recibimos a José Rafael Guzmán y pintamos su silueta mientras nos echaba cuentos.\n\nEn esta ocasión Chris, Leo y Nacho pintan la fina silueta del cuerpo de Jose Rafael Guzman mientras hablan de cómo es trabajar en la televisión.\n\nPatreon de Jóse Rafael: https://www.patreon.com/join/JoseRafaelGuzman\n\nSi quieres ver más contenido de Escuela de Nada, suscríbete a Patreon donde por $5 al mes tendrás acceso a un episodio exclusivo cada viernes y contenido extra los martes (Scringeshot, Examen Oral, Recomendaciones y más). También podrás elegir el tópico principal de un episodio al mes en nuestro Tema de Oro y además tendrás acceso a los primeros 100 episodios del podcast.https://www.patreon.com/escueladenada\n\n\nENTRADAS SEMPER BICHOS EUROPA: www.semperbichos.con\n\n\nCompra nuestra masterclass Cómo hacer tu podcast: https://academia-edn.teachable.com\n\nCompra nuestra Ropita (merch oficial) con envíos a casi todo el planeta: \nhttps://represent.com/store/escueladenada\n\nSi estás en Venezuela puedes encontrarla aquí: \nhttps://covasve.com/\n\nTambién te puedes suscribir totalmente gratis a nuestro newsletter que enviamos cada miércoles: https://tinyurl.com/EDNnewsletter\n\nEscúchanos en Spotify https://open.spotify.com/show/4xOM98A8Es30eGevw6tYwe?si=QwORHX8BTMyzKxJOa9_oZQ&dl_branch=1\n\nY por último, síguenos en nuestras redes sociales:\n\nESCUELA DE NADA \n\nInstagram: https://www.instagram.com/escueladenada/\n\nTwitter: https://twitter.com/escueladenada\n\nTik Tok: https://www.tiktok.com/@escueladenada\n\nFacebook: https://www.facebook.com/escueladenada\n\nDiscord: https://discord.com/invite/S8bYM6A\n\n\nLEO ROJAS \n\nTwitter: https://twitter.com/leo\n\nInstagram:  https://www.instagram.com/leorojas1/\n\nCHRIS ANDRADE: \n\nTwitter: https://twitter.com/minombreeschris\n\nInstagram: https://www.instagram.com/minombreeschris/\n\n\nNACHO REDONDO: \n\nTwitter: https://twitter.com/nachored\n\nInstagram: https://www.instagram.com/nachored/",
          "liveBroadcastContent": "none",
          "localized": {
           "description": "Un pequeño trailer de lo que sucedió el pasado viernes en Patreon donde recibimos a José Rafael Guzmán y pintamos su silueta mientras nos echaba cuentos.\n\nEn esta ocasión Chris, Leo y Nacho pintan la fina silueta del cuerpo de Jose Rafael Guzman mientras hablan de cómo es trabajar en la televisión.\n\nPatreon de Jóse Rafael: https://www.patreon.com/join/JoseRafaelGuzman\n\nSi quieres ver más contenido de Escuela de Nada, suscríbete a Patreon donde por $5 al mes tendrás acceso a un episodio exclusivo cada viernes y contenido extra los martes (Scringeshot, Examen Oral, Recomendaciones y más). También podrás elegir el tópico principal de un episodio al mes en nuestro Tema de Oro y además tendrás acceso a los primeros 100 episodios del podcast.https://www.patreon.com/escueladenada\n\n\nENTRADAS SEMPER BICHOS EUROPA: www.semperbichos.con\n\n\nCompra nuestra masterclass Cómo hacer tu podcast: https://academia-edn.teachable.com\n\nCompra nuestra Ropita (merch oficial) con envíos a casi todo el planeta: \nhttps://represent.com/store/escueladenada\n\nSi estás en Venezuela puedes encontrarla aquí: \nhttps://covasve.com/\n\nTambién te puedes suscribir totalmente gratis a nuestro newsletter que enviamos cada miércoles: https://tinyurl.com/EDNnewsletter\n\nEscúchanos en Spotify https://open.spotify.com/show/4xOM98A8Es30eGevw6tYwe?si=QwORHX8BTMyzKxJOa9_oZQ&dl_branch=1\n\nY por último, síguenos en nuestras redes sociales:\n\nESCUELA DE NADA \n\nInstagram: https://www.instagram.com/escueladenada/\n\nTwitter: https://twitter.com/escueladenada\n\nTik Tok: https://www.tiktok.com/@escueladenada\n\nFacebook: https://www.facebook.com/escueladenada\n\nDiscord: https://discord.com/invite/S8bYM6A\n\n\nLEO ROJAS \n\nTwitter: https://twitter.com/leo\n\nInstagram:  https://www.instagram.com/leorojas1/\n\nCHRIS ANDRADE: \n\nTwitter: https://twitter.com/minombreeschris\n\nInstagram: https://www.instagram.com/minombreeschris/\n\n\nNACHO REDONDO: \n\nTwitter: https://twitter.com/nachored\n\nInstagram: https://www.instagram.com/nachored/",
           "title": "La mamá de Jóse pensaba que hacía brujería"
          },
          "publishedAt": "2022-05-07T20:30:51Z",
          "thumbnails": {
           "default": {
            "height": 90,
            "url": "https://i.ytimg.com/vi/C7bk0wpBmgk/default.jpg",
            "width": 120
           },
           "high": {
            "height": 360,
            "url": "https://i.ytimg.com/vi/C7bk0wpBmgk/hqdefault.jpg",
            "width": 480
           },
           "maxres": {
            "height": 720,
            "url": "https://i.ytimg.com/vi/C7bk0wpBmgk/maxresdefault.jpg",
            "width": 1280
           },
           "medium": {
            "height": 180,
            "url": "https://i.ytimg.com/vi/C7bk0wpBmgk/mqdefault.jpg",
            "width": 320
           },
           "standard": {
            "height": 480,
            "url": "https://i.ytimg.com/vi/C7bk0wpBmgk/sddefault.jpg",
            "width": 640
           }
          },
          "title": "La mamá de Jóse pensaba que hacía brujería"
         },
         "statistics": {
          "commentCount": "27",
          "favoriteCount": "0",
          "likeCount": "987",
          "viewCount": "22526"
         }
        },
        {
         "contentDetails": {
          "caption": "false",
          "contentRating": {},
          "definition": "hd",
          "dimension": "2d",
          "duration": "PT1H17M41S",
          "licensedContent": true,
          "projection": "rectangular"
         },
         "etag": "U7gh4eNMLA30v1UK6CNrLt8LZ8w",
         "id": "H5JUu8Lgjt8",
         "kind": "youtube#video",
         "snippet": {
          "categoryId": "23",
          "channelId": "UCZbq1qvbQzxDGUyuoPnF4LQ",
          "channelTitle": "Escuela de Nada",
          "defaultAudioLanguage": "es-419",
          "description": "En esta ocasión Chris, Leo y Nacho reciben a Jose Rafael Guzmán para hablar de su carrera, las decisiones que lo llevaron a grabar Caminantes y además de la definición de la locura.\n\nPatreon de Jóse Rafael: https://www.patreon.com/join/JoseRafaelGuzman\n\nSi quieres ver más contenido de Escuela de Nada, suscríbete a Patreon donde por $5 al mes tendrás acceso a un episodio exclusivo cada viernes y contenido extra los martes (Scringeshot, Examen Oral, Recomendaciones y más). También podrás elegir el tópico principal de un episodio al mes en nuestro Tema de Oro y además tendrás acceso a los primeros 100 episodios del podcast.https://www.patreon.com/escueladenada\n\n\nENTRADAS SEMPER BICHOS EUROPA: www.semperbichos.con\n\n\nCompra nuestra masterclass Cómo hacer tu podcast: https://academia-edn.teachable.com\n\nCompra nuestra Ropita (merch oficial) con envíos a casi todo el planeta: \nhttps://represent.com/store/escueladenada\n\nSi estás en Venezuela puedes encontrarla aquí: \nhttps://covasve.com/\n\nTambién te puedes suscribir totalmente gratis a nuestro newsletter que enviamos cada miércoles: https://tinyurl.com/EDNnewsletter\n\nEscúchanos en Spotify https://open.spotify.com/show/4xOM98A8Es30eGevw6tYwe?si=QwORHX8BTMyzKxJOa9_oZQ&dl_branch=1\n\nY por último, síguenos en nuestras redes sociales:\n\nESCUELA DE NADA \n\nInstagram: https://www.instagram.com/escueladenada/\n\nTwitter: https://twitter.com/escueladenada\n\nTik Tok: https://www.tiktok.com/@escueladenada\n\nFacebook: https://www.facebook.com/escueladenada\n\nDiscord: https://discord.com/invite/S8bYM6A\n\n\nLEO ROJAS \n\nTwitter: https://twitter.com/leo\n\nInstagram:  https://www.instagram.com/leorojas1/\n\nCHRIS ANDRADE: \n\nTwitter: https://twitter.com/minombreeschris\n\nInstagram: https://www.instagram.com/minombreeschris/\n\n\nNACHO REDONDO: \n\nTwitter: https://twitter.com/nachored\n\nInstagram: https://www.instagram.com/nachored/",
          "liveBroadcastContent": "none",
          "localized": {
           "description": "En esta ocasión Chris, Leo y Nacho reciben a Jose Rafael Guzmán para hablar de su carrera, las decisiones que lo llevaron a grabar Caminantes y además de la definición de la locura.\n\nPatreon de Jóse Rafael: https://www.patreon.com/join/JoseRafaelGuzman\n\nSi quieres ver más contenido de Escuela de Nada, suscríbete a Patreon donde por $5 al mes tendrás acceso a un episodio exclusivo cada viernes y contenido extra los martes (Scringeshot, Examen Oral, Recomendaciones y más). También podrás elegir el tópico principal de un episodio al mes en nuestro Tema de Oro y además tendrás acceso a los primeros 100 episodios del podcast.https://www.patreon.com/escueladenada\n\n\nENTRADAS SEMPER BICHOS EUROPA: www.semperbichos.con\n\n\nCompra nuestra masterclass Cómo hacer tu podcast: https://academia-edn.teachable.com\n\nCompra nuestra Ropita (merch oficial) con envíos a casi todo el planeta: \nhttps://represent.com/store/escueladenada\n\nSi estás en Venezuela puedes encontrarla aquí: \nhttps://covasve.com/\n\nTambién te puedes suscribir totalmente gratis a nuestro newsletter que enviamos cada miércoles: https://tinyurl.com/EDNnewsletter\n\nEscúchanos en Spotify https://open.spotify.com/show/4xOM98A8Es30eGevw6tYwe?si=QwORHX8BTMyzKxJOa9_oZQ&dl_branch=1\n\nY por último, síguenos en nuestras redes sociales:\n\nESCUELA DE NADA \n\nInstagram: https://www.instagram.com/escueladenada/\n\nTwitter: https://twitter.com/escueladenada\n\nTik Tok: https://www.tiktok.com/@escueladenada\n\nFacebook: https://www.facebook.com/escueladenada\n\nDiscord: https://discord.com/invite/S8bYM6A\n\n\nLEO ROJAS \n\nTwitter: https://twitter.com/leo\n\nInstagram:  https://www.instagram.com/leorojas1/\n\nCHRIS ANDRADE: \n\nTwitter: https://twitter.com/minombreeschris\n\nInstagram: https://www.instagram.com/minombreeschris/\n\n\nNACHO REDONDO: \n\nTwitter: https://twitter.com/nachored\n\nInstagram: https://www.instagram.com/nachored/",
           "title": "La definición de la locura feat. Jóse Rafael Guzmán - EP #369"
          },
          "publishedAt": "2022-05-05T00:00:25Z",
          "thumbnails": {
           "default": {
            "height": 90,
            "url": "https://i.ytimg.com/vi/H5JUu8Lgjt8/default.jpg",
            "width": 120
           },
           "high": {
            "height": 360,
            "url": "https://i.ytimg.com/vi/H5JUu8Lgjt8/hqdefault.jpg",
            "width": 480
           },
           "maxres": {
            "height": 720,
            "url": "https://i.ytimg.com/vi/H5JUu8Lgjt8/maxresdefault.jpg",
            "width": 1280
           },
           "medium": {
            "height": 180,
            "url": "https://i.ytimg.com/vi/H5JUu8Lgjt8/mqdefault.jpg",
            "width": 320
           },
           "standard": {
            "height": 480,
            "url": "https://i.ytimg.com/vi/H5JUu8Lgjt8/sddefault.jpg",
            "width": 640
           }
          },
          "title": "La definición de la locura feat. Jóse Rafael Guzmán - EP #369"
         },
         "statistics": {
          "commentCount": "587",
          "favoriteCount": "0",
          "likeCount": "7293",
          "viewCount": "181821"
         }
        },
        {
         "contentDetails": {
          "caption": "false",
          "contentRating": {},
          "definition": "hd",
          "dimension": "2d",
          "duration": "PT39M15S",
          "licensedContent": true,
          "projection": "rectangular"
         },
         "etag": "4Odt9-CljKYe2nMeUps6ala2b70",
         "id": "61tABNIxk18",
         "kind": "youtube#video",
         "snippet": {
          "categoryId": "23",
          "channelId": "UCZbq1qvbQzxDGUyuoPnF4LQ",
          "channelTitle": "Escuela de Nada",
          "defaultAudioLanguage": "es-419",
          "description": "En esta ocasión Leo, Chris y Nacho hablan sobre los masajes, la meditación y cómo alcanzar el nivel máximo de relajación.\n\nSi quieres ver más contenido de Escuela de Nada, suscríbete a Patreon donde por $5 al mes tendrás acceso a un episodio exclusivo cada viernes y contenido extra los martes (Scringeshot, Examen Oral, Recomendaciones y más). También podrás elegir el tópico principal de un episodio al mes en nuestro Tema de Oro y además tendrás acceso a los primeros 100 episodios del podcast.https://www.patreon.com/escueladenada\n\n\nENTRADAS SEMPER BICHOS EUROPA: www.semperbichos.con\n\n\nCompra nuestra masterclass Cómo hacer tu podcast: https://academia-edn.teachable.com\n\nCompra nuestra Ropita (merch oficial) con envíos a casi todo el planeta: \nhttps://represent.com/store/escueladenada\n\nSi estás en Venezuela puedes encontrarla aquí: \nhttps://covasve.com/\n\nTambién te puedes suscribir totalmente gratis a nuestro newsletter que enviamos cada miércoles: https://tinyurl.com/EDNnewsletter\n\nEscúchanos en Spotify https://open.spotify.com/show/4xOM98A8Es30eGevw6tYwe?si=QwORHX8BTMyzKxJOa9_oZQ&dl_branch=1\n\nY por último, síguenos en nuestras redes sociales:\n\nESCUELA DE NADA \n\nInstagram: https://www.instagram.com/escueladenada/\n\nTwitter: https://twitter.com/escueladenada\n\nTik Tok: https://www.tiktok.com/@escueladenada\n\nFacebook: https://www.facebook.com/escueladenada\n\nDiscord: https://discord.com/invite/S8bYM6A\n\n\nLEO ROJAS \n\nTwitter: https://twitter.com/leo\n\nInstagram:  https://www.instagram.com/leorojas1/\n\nCHRIS ANDRADE: \n\nTwitter: https://twitter.com/minombreeschris\n\nInstagram: https://www.instagram.com/minombreeschris/\n\n\nNACHO REDONDO: \n\nTwitter: https://twitter.com/nachored\n\nInstagram: https://www.instagram.com/nachored/",
          "liveBroadcastContent": "none",
          "localized": {
           "description": "En esta ocasión Leo, Chris y Nacho hablan sobre los masajes, la meditación y cómo alcanzar el nivel máximo de relajación.\n\nSi quieres ver más contenido de Escuela de Nada, suscríbete a Patreon donde por $5 al mes tendrás acceso a un episodio exclusivo cada viernes y contenido extra los martes (Scringeshot, Examen Oral, Recomendaciones y más). También podrás elegir el tópico principal de un episodio al mes en nuestro Tema de Oro y además tendrás acceso a los primeros 100 episodios del podcast.https://www.patreon.com/escueladenada\n\n\nENTRADAS SEMPER BICHOS EUROPA: www.semperbichos.con\n\n\nCompra nuestra masterclass Cómo hacer tu podcast: https://academia-edn.teachable.com\n\nCompra nuestra Ropita (merch oficial) con envíos a casi todo el planeta: \nhttps://represent.com/store/escueladenada\n\nSi estás en Venezuela puedes encontrarla aquí: \nhttps://covasve.com/\n\nTambién te puedes suscribir totalmente gratis a nuestro newsletter que enviamos cada miércoles: https://tinyurl.com/EDNnewsletter\n\nEscúchanos en Spotify https://open.spotify.com/show/4xOM98A8Es30eGevw6tYwe?si=QwORHX8BTMyzKxJOa9_oZQ&dl_branch=1\n\nY por último, síguenos en nuestras redes sociales:\n\nESCUELA DE NADA \n\nInstagram: https://www.instagram.com/escueladenada/\n\nTwitter: https://twitter.com/escueladenada\n\nTik Tok: https://www.tiktok.com/@escueladenada\n\nFacebook: https://www.facebook.com/escueladenada\n\nDiscord: https://discord.com/invite/S8bYM6A\n\n\nLEO ROJAS \n\nTwitter: https://twitter.com/leo\n\nInstagram:  https://www.instagram.com/leorojas1/\n\nCHRIS ANDRADE: \n\nTwitter: https://twitter.com/minombreeschris\n\nInstagram: https://www.instagram.com/minombreeschris/\n\n\nNACHO REDONDO: \n\nTwitter: https://twitter.com/nachored\n\nInstagram: https://www.instagram.com/nachored/",
           "title": "Los masajes y la relajación máxima - EP #368"
          },
          "publishedAt": "2022-05-02T00:01:35Z",
          "thumbnails": {
           "default": {
            "height": 90,
            "url": "https://i.ytimg.com/vi/61tABNIxk18/default.jpg",
            "width": 120
           },
           "high": {
            "height": 360,
            "url": "https://i.ytimg.com/vi/61tABNIxk18/hqdefault.jpg",
            "width": 480
           },
           "maxres": {
            "height": 720,
            "url": "https://i.ytimg.com/vi/61tABNIxk18/maxresdefault.jpg",
            "width": 1280
           },
           "medium": {
            "height": 180,
            "url": "https://i.ytimg.com/vi/61tABNIxk18/mqdefault.jpg",
            "width": 320
           },
           "standard": {
            "height": 480,
            "url": "https://i.ytimg.com/vi/61tABNIxk18/sddefault.jpg",
            "width": 640
           }
          },
          "title": "Los masajes y la relajación máxima - EP #368"
         },
         "statistics": {
          "commentCount": "216",
          "favoriteCount": "0",
          "likeCount": "3568",
          "viewCount": "82912"
         }
        },
        {
         "contentDetails": {
          "caption": "false",
          "contentRating": {},
          "definition": "hd",
          "dimension": "2d",
          "duration": "PT2M51S",
          "licensedContent": true,
          "projection": "rectangular"
         },
         "etag": "ZNBiW-NtpxbF8tOq9zh09oLmvHg",
         "id": "ttcbONWZ2C4",
         "kind": "youtube#video",
         "snippet": {
          "categoryId": "23",
          "channelId": "UCZbq1qvbQzxDGUyuoPnF4LQ",
          "channelTitle": "Escuela de Nada",
          "defaultAudioLanguage": "es-419",
          "description": "Un pequeño trailer de lo que sucedió el pasado viernes en Patreon en una nueva edición del Tema de Oro hablamos sobre si los deportistas merecen lo que ganan.\n\nSi quieres ver más contenido de Escuela de Nada, suscríbete a Patreon donde por $5 al mes tendrás acceso a un episodio exclusivo cada viernes y contenido extra los martes (Scringeshot, Examen Oral, Recomendaciones y más). También podrás elegir el tópico principal de un episodio al mes en nuestro Tema de Oro y además tendrás acceso a los primeros 100 episodios del podcast.https://www.patreon.com/escueladenada\n\n\nENTRADAS SEMPER BICHOS EUROPA: www.semperbichos.con\n\n\nCompra nuestra masterclass Cómo hacer tu podcast: https://academia-edn.teachable.com\n\nCompra nuestra Ropita (merch oficial) con envíos a casi todo el planeta: \nhttps://represent.com/store/escueladenada\n\nSi estás en Venezuela puedes encontrarla aquí: \nhttps://covasve.com/\n\nTambién te puedes suscribir totalmente gratis a nuestro newsletter que enviamos cada miércoles: https://tinyurl.com/EDNnewsletter\n\nEscúchanos en Spotify https://open.spotify.com/show/4xOM98A8Es30eGevw6tYwe?si=QwORHX8BTMyzKxJOa9_oZQ&dl_branch=1\n\nY por último, síguenos en nuestras redes sociales:\n\nESCUELA DE NADA \n\nInstagram: https://www.instagram.com/escueladenada/\n\nTwitter: https://twitter.com/escueladenada\n\nTik Tok: https://www.tiktok.com/@escueladenada\n\nFacebook: https://www.facebook.com/escueladenada\n\nDiscord: https://discord.com/invite/S8bYM6A\n\n\nLEO ROJAS \n\nTwitter: https://twitter.com/leo\n\nInstagram:  https://www.instagram.com/leorojas1/\n\nCHRIS ANDRADE: \n\nTwitter: https://twitter.com/minombreeschris\n\nInstagram: https://www.instagram.com/minombreeschris/\n\n\nNACHO REDONDO: \n\nTwitter: https://twitter.com/nachored\n\nInstagram: https://www.instagram.com/nachored/",
          "liveBroadcastContent": "none",
          "localized": {
           "description": "Un pequeño trailer de lo que sucedió el pasado viernes en Patreon en una nueva edición del Tema de Oro hablamos sobre si los deportistas merecen lo que ganan.\n\nSi quieres ver más contenido de Escuela de Nada, suscríbete a Patreon donde por $5 al mes tendrás acceso a un episodio exclusivo cada viernes y contenido extra los martes (Scringeshot, Examen Oral, Recomendaciones y más). También podrás elegir el tópico principal de un episodio al mes en nuestro Tema de Oro y además tendrás acceso a los primeros 100 episodios del podcast.https://www.patreon.com/escueladenada\n\n\nENTRADAS SEMPER BICHOS EUROPA: www.semperbichos.con\n\n\nCompra nuestra masterclass Cómo hacer tu podcast: https://academia-edn.teachable.com\n\nCompra nuestra Ropita (merch oficial) con envíos a casi todo el planeta: \nhttps://represent.com/store/escueladenada\n\nSi estás en Venezuela puedes encontrarla aquí: \nhttps://covasve.com/\n\nTambién te puedes suscribir totalmente gratis a nuestro newsletter que enviamos cada miércoles: https://tinyurl.com/EDNnewsletter\n\nEscúchanos en Spotify https://open.spotify.com/show/4xOM98A8Es30eGevw6tYwe?si=QwORHX8BTMyzKxJOa9_oZQ&dl_branch=1\n\nY por último, síguenos en nuestras redes sociales:\n\nESCUELA DE NADA \n\nInstagram: https://www.instagram.com/escueladenada/\n\nTwitter: https://twitter.com/escueladenada\n\nTik Tok: https://www.tiktok.com/@escueladenada\n\nFacebook: https://www.facebook.com/escueladenada\n\nDiscord: https://discord.com/invite/S8bYM6A\n\n\nLEO ROJAS \n\nTwitter: https://twitter.com/leo\n\nInstagram:  https://www.instagram.com/leorojas1/\n\nCHRIS ANDRADE: \n\nTwitter: https://twitter.com/minombreeschris\n\nInstagram: https://www.instagram.com/minombreeschris/\n\n\nNACHO REDONDO: \n\nTwitter: https://twitter.com/nachored\n\nInstagram: https://www.instagram.com/nachored/",
           "title": "La importancia de la educación financiera en el deporte"
          },
          "publishedAt": "2022-05-01T20:13:54Z",
          "thumbnails": {
           "default": {
            "height": 90,
            "url": "https://i.ytimg.com/vi/ttcbONWZ2C4/default.jpg",
            "width": 120
           },
           "high": {
            "height": 360,
            "url": "https://i.ytimg.com/vi/ttcbONWZ2C4/hqdefault.jpg",
            "width": 480
           },
           "maxres": {
            "height": 720,
            "url": "https://i.ytimg.com/vi/ttcbONWZ2C4/maxresdefault.jpg",
            "width": 1280
           },
           "medium": {
            "height": 180,
            "url": "https://i.ytimg.com/vi/ttcbONWZ2C4/mqdefault.jpg",
            "width": 320
           },
           "standard": {
            "height": 480,
            "url": "https://i.ytimg.com/vi/ttcbONWZ2C4/sddefault.jpg",
            "width": 640
           }
          },
          "title": "La importancia de la educación financiera en el deporte"
         },
         "statistics": {
          "commentCount": "17",
          "favoriteCount": "0",
          "likeCount": "500",
          "viewCount": "13066"
         }
        }
       ],
       "kind": "youtube#videoListResponse",
       "pageInfo": {
        "resultsPerPage": 5,
        "totalResults": 5
       }
      },
      "text/plain": [
       "<IPython.core.display.JSON object>"
      ]
     },
     "execution_count": 23,
     "metadata": {
      "application/json": {
       "expanded": false,
       "root": "root"
      }
     },
     "output_type": "execute_result"
    }
   ],
   "source": [
    "#code snippet from the api documentation used to get data of the video slight modified to use the first 5 video ids already obtained\n",
    "\n",
    "request = youtube.videos().list(\n",
    "    part=\"snippet, contentDetails, statistics\",\n",
    "    id=video_ids[0:5],\n",
    ")\n",
    "response = request.execute()\n",
    "JSON(response)"
   ]
  },
  {
   "cell_type": "code",
   "execution_count": 24,
   "metadata": {},
   "outputs": [],
   "source": [
    "def get_video_details(youtube, video_ids):\n",
    "    \n",
    "    all_video_info = []\n",
    "    \n",
    "    for v in range(0, len(video_ids), 50):\n",
    "        request = youtube.videos().list(\n",
    "            part='snippet, contentDetails, statistics',\n",
    "            id=','.join(video_ids[v:v+50])\n",
    "        )\n",
    "        response = request.execute()\n",
    "    \n",
    "        for video in response['items']:\n",
    "            stats = {'snippet':['channelTitle', 'title', 'description', 'tags', 'publishedAt'],\n",
    "                    'contentDetails':['duration', 'definition', 'caption'],\n",
    "                    'statistics':['viewCount', 'likeCount', 'favoriteCount', 'commentCount']}\n",
    "\n",
    "            video_info={}\n",
    "            video_info['video_id'] = video['id']\n",
    "\n",
    "            for s in stats.keys():\n",
    "                for t in stats[s]:\n",
    "                    try:\n",
    "                        video_info[t] = video[s][t]\n",
    "                    except:\n",
    "                        video_info[t] = None\n",
    "\n",
    "            all_video_info.append(video_info)\n",
    "    \n",
    "    return pd.DataFrame(all_video_info)\n",
    "    "
   ]
  },
  {
   "cell_type": "code",
   "execution_count": 25,
   "metadata": {},
   "outputs": [
    {
     "data": {
      "text/html": [
       "<div>\n",
       "<style scoped>\n",
       "    .dataframe tbody tr th:only-of-type {\n",
       "        vertical-align: middle;\n",
       "    }\n",
       "\n",
       "    .dataframe tbody tr th {\n",
       "        vertical-align: top;\n",
       "    }\n",
       "\n",
       "    .dataframe thead th {\n",
       "        text-align: right;\n",
       "    }\n",
       "</style>\n",
       "<table border=\"1\" class=\"dataframe\">\n",
       "  <thead>\n",
       "    <tr style=\"text-align: right;\">\n",
       "      <th></th>\n",
       "      <th>video_id</th>\n",
       "      <th>channelTitle</th>\n",
       "      <th>title</th>\n",
       "      <th>description</th>\n",
       "      <th>tags</th>\n",
       "      <th>publishedAt</th>\n",
       "      <th>duration</th>\n",
       "      <th>definition</th>\n",
       "      <th>caption</th>\n",
       "      <th>viewCount</th>\n",
       "      <th>likeCount</th>\n",
       "      <th>favoriteCount</th>\n",
       "      <th>commentCount</th>\n",
       "    </tr>\n",
       "  </thead>\n",
       "  <tbody>\n",
       "    <tr>\n",
       "      <th>0</th>\n",
       "      <td>yZ6hb_0JRyY</td>\n",
       "      <td>Escuela de Nada</td>\n",
       "      <td>Estatus de gira: Bad Bunny, Dr. Strange y el R...</td>\n",
       "      <td>En esta ocasión Chris, Leo y Nacho hacen un re...</td>\n",
       "      <td>None</td>\n",
       "      <td>2022-05-09T00:00:48Z</td>\n",
       "      <td>PT44M</td>\n",
       "      <td>hd</td>\n",
       "      <td>false</td>\n",
       "      <td>82081</td>\n",
       "      <td>4017</td>\n",
       "      <td>0</td>\n",
       "      <td>241</td>\n",
       "    </tr>\n",
       "    <tr>\n",
       "      <th>1</th>\n",
       "      <td>C7bk0wpBmgk</td>\n",
       "      <td>Escuela de Nada</td>\n",
       "      <td>La mamá de Jóse pensaba que hacía brujería</td>\n",
       "      <td>Un pequeño trailer de lo que sucedió el pasado...</td>\n",
       "      <td>None</td>\n",
       "      <td>2022-05-07T20:30:51Z</td>\n",
       "      <td>PT2M30S</td>\n",
       "      <td>hd</td>\n",
       "      <td>false</td>\n",
       "      <td>22526</td>\n",
       "      <td>987</td>\n",
       "      <td>0</td>\n",
       "      <td>27</td>\n",
       "    </tr>\n",
       "    <tr>\n",
       "      <th>2</th>\n",
       "      <td>H5JUu8Lgjt8</td>\n",
       "      <td>Escuela de Nada</td>\n",
       "      <td>La definición de la locura feat. Jóse Rafael G...</td>\n",
       "      <td>En esta ocasión Chris, Leo y Nacho reciben a J...</td>\n",
       "      <td>None</td>\n",
       "      <td>2022-05-05T00:00:25Z</td>\n",
       "      <td>PT1H17M41S</td>\n",
       "      <td>hd</td>\n",
       "      <td>false</td>\n",
       "      <td>181821</td>\n",
       "      <td>7294</td>\n",
       "      <td>0</td>\n",
       "      <td>587</td>\n",
       "    </tr>\n",
       "    <tr>\n",
       "      <th>3</th>\n",
       "      <td>61tABNIxk18</td>\n",
       "      <td>Escuela de Nada</td>\n",
       "      <td>Los masajes y la relajación máxima - EP #368</td>\n",
       "      <td>En esta ocasión Leo, Chris y Nacho hablan sobr...</td>\n",
       "      <td>None</td>\n",
       "      <td>2022-05-02T00:01:35Z</td>\n",
       "      <td>PT39M15S</td>\n",
       "      <td>hd</td>\n",
       "      <td>false</td>\n",
       "      <td>82912</td>\n",
       "      <td>3568</td>\n",
       "      <td>0</td>\n",
       "      <td>216</td>\n",
       "    </tr>\n",
       "    <tr>\n",
       "      <th>4</th>\n",
       "      <td>ttcbONWZ2C4</td>\n",
       "      <td>Escuela de Nada</td>\n",
       "      <td>La importancia de la educación financiera en e...</td>\n",
       "      <td>Un pequeño trailer de lo que sucedió el pasado...</td>\n",
       "      <td>None</td>\n",
       "      <td>2022-05-01T20:13:54Z</td>\n",
       "      <td>PT2M51S</td>\n",
       "      <td>hd</td>\n",
       "      <td>false</td>\n",
       "      <td>13066</td>\n",
       "      <td>500</td>\n",
       "      <td>0</td>\n",
       "      <td>17</td>\n",
       "    </tr>\n",
       "    <tr>\n",
       "      <th>...</th>\n",
       "      <td>...</td>\n",
       "      <td>...</td>\n",
       "      <td>...</td>\n",
       "      <td>...</td>\n",
       "      <td>...</td>\n",
       "      <td>...</td>\n",
       "      <td>...</td>\n",
       "      <td>...</td>\n",
       "      <td>...</td>\n",
       "      <td>...</td>\n",
       "      <td>...</td>\n",
       "      <td>...</td>\n",
       "      <td>...</td>\n",
       "    </tr>\n",
       "    <tr>\n",
       "      <th>400</th>\n",
       "      <td>8UG4DbrNhmA</td>\n",
       "      <td>Escuela de Nada</td>\n",
       "      <td>Relaciones curiosas y la de Thomas Middleditch...</td>\n",
       "      <td>En esta ocasión Chris, Leo y Nacho hablan sobr...</td>\n",
       "      <td>None</td>\n",
       "      <td>2019-10-14T00:16:26Z</td>\n",
       "      <td>PT40M11S</td>\n",
       "      <td>hd</td>\n",
       "      <td>false</td>\n",
       "      <td>84037</td>\n",
       "      <td>3523</td>\n",
       "      <td>0</td>\n",
       "      <td>242</td>\n",
       "    </tr>\n",
       "    <tr>\n",
       "      <th>401</th>\n",
       "      <td>ta_uaIPgE2w</td>\n",
       "      <td>Escuela de Nada</td>\n",
       "      <td>[TRAILER] Episodio exclusivo - Controversias d...</td>\n",
       "      <td>En esta ocasión Chris, Leo y Nacho opinan sobr...</td>\n",
       "      <td>None</td>\n",
       "      <td>2019-10-12T15:48:43Z</td>\n",
       "      <td>PT49S</td>\n",
       "      <td>hd</td>\n",
       "      <td>false</td>\n",
       "      <td>9670</td>\n",
       "      <td>401</td>\n",
       "      <td>0</td>\n",
       "      <td>25</td>\n",
       "    </tr>\n",
       "    <tr>\n",
       "      <th>402</th>\n",
       "      <td>HWA3YlCQp9s</td>\n",
       "      <td>Escuela de Nada</td>\n",
       "      <td>¿Cómo saber si vas a coger? - EP #102</td>\n",
       "      <td>En esta ocasión Chris, Leo y Nacho hablan sobr...</td>\n",
       "      <td>[escuela de nada, como saber si vas a coger, e...</td>\n",
       "      <td>2019-10-10T00:05:01Z</td>\n",
       "      <td>PT42M14S</td>\n",
       "      <td>hd</td>\n",
       "      <td>false</td>\n",
       "      <td>205438</td>\n",
       "      <td>9120</td>\n",
       "      <td>0</td>\n",
       "      <td>636</td>\n",
       "    </tr>\n",
       "    <tr>\n",
       "      <th>403</th>\n",
       "      <td>k0J6YXP05Uc</td>\n",
       "      <td>Escuela de Nada</td>\n",
       "      <td>Las disonancias cognitivas y vivir en Australi...</td>\n",
       "      <td>En esta ocasión Leo, Nacho y Chris hablan sobr...</td>\n",
       "      <td>None</td>\n",
       "      <td>2019-10-06T23:49:09Z</td>\n",
       "      <td>PT42M4S</td>\n",
       "      <td>hd</td>\n",
       "      <td>false</td>\n",
       "      <td>88170</td>\n",
       "      <td>3837</td>\n",
       "      <td>0</td>\n",
       "      <td>260</td>\n",
       "    </tr>\n",
       "    <tr>\n",
       "      <th>404</th>\n",
       "      <td>WIuYoPOWOQs</td>\n",
       "      <td>Escuela de Nada</td>\n",
       "      <td>[TRAILER]  Episodio exclusivo - ¿Cómo vivir solo?</td>\n",
       "      <td>Trailer del último episodio exclusivo de Patre...</td>\n",
       "      <td>None</td>\n",
       "      <td>2019-10-06T21:29:14Z</td>\n",
       "      <td>PT58S</td>\n",
       "      <td>hd</td>\n",
       "      <td>false</td>\n",
       "      <td>14350</td>\n",
       "      <td>688</td>\n",
       "      <td>0</td>\n",
       "      <td>31</td>\n",
       "    </tr>\n",
       "  </tbody>\n",
       "</table>\n",
       "<p>405 rows × 13 columns</p>\n",
       "</div>"
      ],
      "text/plain": [
       "        video_id     channelTitle  \\\n",
       "0    yZ6hb_0JRyY  Escuela de Nada   \n",
       "1    C7bk0wpBmgk  Escuela de Nada   \n",
       "2    H5JUu8Lgjt8  Escuela de Nada   \n",
       "3    61tABNIxk18  Escuela de Nada   \n",
       "4    ttcbONWZ2C4  Escuela de Nada   \n",
       "..           ...              ...   \n",
       "400  8UG4DbrNhmA  Escuela de Nada   \n",
       "401  ta_uaIPgE2w  Escuela de Nada   \n",
       "402  HWA3YlCQp9s  Escuela de Nada   \n",
       "403  k0J6YXP05Uc  Escuela de Nada   \n",
       "404  WIuYoPOWOQs  Escuela de Nada   \n",
       "\n",
       "                                                 title  \\\n",
       "0    Estatus de gira: Bad Bunny, Dr. Strange y el R...   \n",
       "1           La mamá de Jóse pensaba que hacía brujería   \n",
       "2    La definición de la locura feat. Jóse Rafael G...   \n",
       "3         Los masajes y la relajación máxima - EP #368   \n",
       "4    La importancia de la educación financiera en e...   \n",
       "..                                                 ...   \n",
       "400  Relaciones curiosas y la de Thomas Middleditch...   \n",
       "401  [TRAILER] Episodio exclusivo - Controversias d...   \n",
       "402              ¿Cómo saber si vas a coger? - EP #102   \n",
       "403  Las disonancias cognitivas y vivir en Australi...   \n",
       "404  [TRAILER]  Episodio exclusivo - ¿Cómo vivir solo?   \n",
       "\n",
       "                                           description  \\\n",
       "0    En esta ocasión Chris, Leo y Nacho hacen un re...   \n",
       "1    Un pequeño trailer de lo que sucedió el pasado...   \n",
       "2    En esta ocasión Chris, Leo y Nacho reciben a J...   \n",
       "3    En esta ocasión Leo, Chris y Nacho hablan sobr...   \n",
       "4    Un pequeño trailer de lo que sucedió el pasado...   \n",
       "..                                                 ...   \n",
       "400  En esta ocasión Chris, Leo y Nacho hablan sobr...   \n",
       "401  En esta ocasión Chris, Leo y Nacho opinan sobr...   \n",
       "402  En esta ocasión Chris, Leo y Nacho hablan sobr...   \n",
       "403  En esta ocasión Leo, Nacho y Chris hablan sobr...   \n",
       "404  Trailer del último episodio exclusivo de Patre...   \n",
       "\n",
       "                                                  tags           publishedAt  \\\n",
       "0                                                 None  2022-05-09T00:00:48Z   \n",
       "1                                                 None  2022-05-07T20:30:51Z   \n",
       "2                                                 None  2022-05-05T00:00:25Z   \n",
       "3                                                 None  2022-05-02T00:01:35Z   \n",
       "4                                                 None  2022-05-01T20:13:54Z   \n",
       "..                                                 ...                   ...   \n",
       "400                                               None  2019-10-14T00:16:26Z   \n",
       "401                                               None  2019-10-12T15:48:43Z   \n",
       "402  [escuela de nada, como saber si vas a coger, e...  2019-10-10T00:05:01Z   \n",
       "403                                               None  2019-10-06T23:49:09Z   \n",
       "404                                               None  2019-10-06T21:29:14Z   \n",
       "\n",
       "       duration definition caption viewCount likeCount favoriteCount  \\\n",
       "0         PT44M         hd   false     82081      4017             0   \n",
       "1       PT2M30S         hd   false     22526       987             0   \n",
       "2    PT1H17M41S         hd   false    181821      7294             0   \n",
       "3      PT39M15S         hd   false     82912      3568             0   \n",
       "4       PT2M51S         hd   false     13066       500             0   \n",
       "..          ...        ...     ...       ...       ...           ...   \n",
       "400    PT40M11S         hd   false     84037      3523             0   \n",
       "401       PT49S         hd   false      9670       401             0   \n",
       "402    PT42M14S         hd   false    205438      9120             0   \n",
       "403     PT42M4S         hd   false     88170      3837             0   \n",
       "404       PT58S         hd   false     14350       688             0   \n",
       "\n",
       "    commentCount  \n",
       "0            241  \n",
       "1             27  \n",
       "2            587  \n",
       "3            216  \n",
       "4             17  \n",
       "..           ...  \n",
       "400          242  \n",
       "401           25  \n",
       "402          636  \n",
       "403          260  \n",
       "404           31  \n",
       "\n",
       "[405 rows x 13 columns]"
      ]
     },
     "execution_count": 25,
     "metadata": {},
     "output_type": "execute_result"
    }
   ],
   "source": [
    "videos_df = get_video_details(youtube, video_ids)\n",
    "\n",
    "videos_df"
   ]
  },
  {
   "cell_type": "code",
   "execution_count": 26,
   "metadata": {},
   "outputs": [
    {
     "data": {
      "text/plain": [
       "video_id         False\n",
       "channelTitle     False\n",
       "title            False\n",
       "description      False\n",
       "tags              True\n",
       "publishedAt      False\n",
       "duration         False\n",
       "definition       False\n",
       "caption          False\n",
       "viewCount        False\n",
       "likeCount        False\n",
       "favoriteCount    False\n",
       "commentCount     False\n",
       "dtype: bool"
      ]
     },
     "execution_count": 26,
     "metadata": {},
     "output_type": "execute_result"
    }
   ],
   "source": [
    "#cheking for null values\n",
    "\n",
    "videos_df.isnull().any()"
   ]
  },
  {
   "cell_type": "code",
   "execution_count": 27,
   "metadata": {},
   "outputs": [],
   "source": [
    "#changing data types of the viewCount, likeCount, favoriteCount and commentCount columns\n",
    "#changing the data frame name to reflect the podcast name Escuela de Nada; EDN\n",
    "\n",
    "EDN_videos_df=videos_df.astype({'viewCount':int, 'likeCount':int, 'favoriteCount':int, 'commentCount':int})"
   ]
  },
  {
   "cell_type": "code",
   "execution_count": 29,
   "metadata": {},
   "outputs": [
    {
     "data": {
      "text/plain": [
       "video_id         object\n",
       "channelTitle     object\n",
       "title            object\n",
       "description      object\n",
       "tags             object\n",
       "publishedAt      object\n",
       "duration         object\n",
       "definition       object\n",
       "caption          object\n",
       "viewCount         int32\n",
       "likeCount         int32\n",
       "favoriteCount     int32\n",
       "commentCount      int32\n",
       "dtype: object"
      ]
     },
     "execution_count": 29,
     "metadata": {},
     "output_type": "execute_result"
    }
   ],
   "source": [
    "EDN_videos_df.dtypes"
   ]
  },
  {
   "cell_type": "code",
   "execution_count": 32,
   "metadata": {},
   "outputs": [
    {
     "data": {
      "image/png": "[encoded data removed]",
      "text/plain": [
       "<Figure size 432x288 with 1 Axes>"
      ]
     },
     "metadata": {
      "needs_background": "light"
     },
     "output_type": "display_data"
    }
   ],
   "source": [
    "#EDN best performing videos\n",
    "\n",
    "ax = sns.barplot(x='title', y='viewCount', data=EDN_videos_df.sort_values('viewCount', ascending=False) [0:9])\n",
    "plot = ax.set_xticklabels(ax.get_xticklabels(), rotation=90)"
   ]
  },
  {
   "cell_type": "code",
   "execution_count": 56,
   "metadata": {},
   "outputs": [
    {
     "data": {
      "text/plain": [
       "<matplotlib.axes._subplots.AxesSubplot at 0x20cb4cb2648>"
      ]
     },
     "execution_count": 56,
     "metadata": {},
     "output_type": "execute_result"
    },
    {
     "data": {
      "image/png": "[encoded data removed]",
      "text/plain": [
       "<Figure size 432x288 with 1 Axes>"
      ]
     },
     "metadata": {
      "needs_background": "light"
     },
     "output_type": "display_data"
    }
   ],
   "source": [
    "sns.violinplot(EDN_videos_df['channelTitle'], EDN_videos_df['viewCount'])"
   ]
  },
  {
   "cell_type": "code",
   "execution_count": 43,
   "metadata": {},
   "outputs": [],
   "source": [
    "#updating the playlist id to next channel of the list\n",
    "\n",
    "playlist_id = 'UUQS3PooptNYNhs4-RIl-a2A'"
   ]
  },
  {
   "cell_type": "code",
   "execution_count": 44,
   "metadata": {},
   "outputs": [],
   "source": [
    "video_ids = get_video_ids(youtube, playlist_id)"
   ]
  },
  {
   "cell_type": "code",
   "execution_count": 45,
   "metadata": {},
   "outputs": [
    {
     "data": {
      "text/html": [
       "<div>\n",
       "<style scoped>\n",
       "    .dataframe tbody tr th:only-of-type {\n",
       "        vertical-align: middle;\n",
       "    }\n",
       "\n",
       "    .dataframe tbody tr th {\n",
       "        vertical-align: top;\n",
       "    }\n",
       "\n",
       "    .dataframe thead th {\n",
       "        text-align: right;\n",
       "    }\n",
       "</style>\n",
       "<table border=\"1\" class=\"dataframe\">\n",
       "  <thead>\n",
       "    <tr style=\"text-align: right;\">\n",
       "      <th></th>\n",
       "      <th>video_id</th>\n",
       "      <th>channelTitle</th>\n",
       "      <th>title</th>\n",
       "      <th>description</th>\n",
       "      <th>tags</th>\n",
       "      <th>publishedAt</th>\n",
       "      <th>duration</th>\n",
       "      <th>definition</th>\n",
       "      <th>caption</th>\n",
       "      <th>viewCount</th>\n",
       "      <th>likeCount</th>\n",
       "      <th>favoriteCount</th>\n",
       "      <th>commentCount</th>\n",
       "    </tr>\n",
       "  </thead>\n",
       "  <tbody>\n",
       "    <tr>\n",
       "      <th>0</th>\n",
       "      <td>ivr5BnmzyV0</td>\n",
       "      <td>Jasy y Neisser</td>\n",
       "      <td>LE PEDÍ SER MI NOVIA 💘 #shorts</td>\n",
       "      <td>#shorts #viral #viralvideo #jasyneisser</td>\n",
       "      <td>None</td>\n",
       "      <td>2022-05-07T14:35:30Z</td>\n",
       "      <td>PT1M1S</td>\n",
       "      <td>hd</td>\n",
       "      <td>false</td>\n",
       "      <td>423</td>\n",
       "      <td>57</td>\n",
       "      <td>0</td>\n",
       "      <td>7</td>\n",
       "    </tr>\n",
       "    <tr>\n",
       "      <th>1</th>\n",
       "      <td>XmHk0Dgje_Y</td>\n",
       "      <td>Jasy y Neisser</td>\n",
       "      <td>Jasy y Neisser EP 48 - ¿CÓMO ES SER DRAG EN VE...</td>\n",
       "      <td>Jasy y Neisser - EP 48 ¿CÓMO SER DRAG EN VENEZ...</td>\n",
       "      <td>None</td>\n",
       "      <td>2022-05-05T23:30:11Z</td>\n",
       "      <td>PT1H14M14S</td>\n",
       "      <td>hd</td>\n",
       "      <td>false</td>\n",
       "      <td>4834</td>\n",
       "      <td>352</td>\n",
       "      <td>0</td>\n",
       "      <td>81</td>\n",
       "    </tr>\n",
       "    <tr>\n",
       "      <th>2</th>\n",
       "      <td>0l435OUpQaI</td>\n",
       "      <td>Jasy y Neisser</td>\n",
       "      <td>se c4gó en el patio💩 #shorts #viral</td>\n",
       "      <td></td>\n",
       "      <td>None</td>\n",
       "      <td>2022-05-03T21:18:45Z</td>\n",
       "      <td>PT38S</td>\n",
       "      <td>hd</td>\n",
       "      <td>false</td>\n",
       "      <td>202</td>\n",
       "      <td>20</td>\n",
       "      <td>0</td>\n",
       "      <td>2</td>\n",
       "    </tr>\n",
       "    <tr>\n",
       "      <th>3</th>\n",
       "      <td>j7MXzeVkPxQ</td>\n",
       "      <td>Jasy y Neisser</td>\n",
       "      <td>El Titanic 😭 #shorts</td>\n",
       "      <td>#shorts #viral #viralvideo</td>\n",
       "      <td>None</td>\n",
       "      <td>2022-04-29T16:35:19Z</td>\n",
       "      <td>PT32S</td>\n",
       "      <td>hd</td>\n",
       "      <td>false</td>\n",
       "      <td>253</td>\n",
       "      <td>39</td>\n",
       "      <td>0</td>\n",
       "      <td>1</td>\n",
       "    </tr>\n",
       "    <tr>\n",
       "      <th>4</th>\n",
       "      <td>QJ1vFGFk4RI</td>\n",
       "      <td>Jasy y Neisser</td>\n",
       "      <td>Jasy y Neisser - EP 47 ¿NOS VAMOS A EXTINGUIR? 😨😱</td>\n",
       "      <td>Hablando sobre el cambio climático, la evoluci...</td>\n",
       "      <td>[jasy y Neisser, jasy del rey, neisser, escuel...</td>\n",
       "      <td>2022-04-28T23:30:10Z</td>\n",
       "      <td>PT1H6M7S</td>\n",
       "      <td>hd</td>\n",
       "      <td>false</td>\n",
       "      <td>5859</td>\n",
       "      <td>403</td>\n",
       "      <td>0</td>\n",
       "      <td>140</td>\n",
       "    </tr>\n",
       "    <tr>\n",
       "      <th>...</th>\n",
       "      <td>...</td>\n",
       "      <td>...</td>\n",
       "      <td>...</td>\n",
       "      <td>...</td>\n",
       "      <td>...</td>\n",
       "      <td>...</td>\n",
       "      <td>...</td>\n",
       "      <td>...</td>\n",
       "      <td>...</td>\n",
       "      <td>...</td>\n",
       "      <td>...</td>\n",
       "      <td>...</td>\n",
       "      <td>...</td>\n",
       "    </tr>\n",
       "    <tr>\n",
       "      <th>59</th>\n",
       "      <td>7C9flOjopqk</td>\n",
       "      <td>Jasy y Neisser</td>\n",
       "      <td>Jasy y Neisser - EP 5 - ¿Cómo se vive en Venez...</td>\n",
       "      <td>Hola madres, estamos felices de que estén aquí...</td>\n",
       "      <td>[edn, escueladenada, nanutria, sipdn, gaboruiz...</td>\n",
       "      <td>2021-07-15T23:00:14Z</td>\n",
       "      <td>PT30M13S</td>\n",
       "      <td>hd</td>\n",
       "      <td>false</td>\n",
       "      <td>12666</td>\n",
       "      <td>1028</td>\n",
       "      <td>0</td>\n",
       "      <td>265</td>\n",
       "    </tr>\n",
       "    <tr>\n",
       "      <th>60</th>\n",
       "      <td>CoyMw1gQG80</td>\n",
       "      <td>Jasy y Neisser</td>\n",
       "      <td>Jasy y Neisser - EP 4 - PIJAMADA: Bodyshaming,...</td>\n",
       "      <td>En este episodio especial y mas intimo de PIJA...</td>\n",
       "      <td>[edn, escueladenada, nanutria, victornanutria,...</td>\n",
       "      <td>2021-07-08T23:00:11Z</td>\n",
       "      <td>PT28M15S</td>\n",
       "      <td>hd</td>\n",
       "      <td>false</td>\n",
       "      <td>13240</td>\n",
       "      <td>1135</td>\n",
       "      <td>0</td>\n",
       "      <td>148</td>\n",
       "    </tr>\n",
       "    <tr>\n",
       "      <th>61</th>\n",
       "      <td>MLfcMFOlvdY</td>\n",
       "      <td>Jasy y Neisser</td>\n",
       "      <td>Jasy y Neisser - EP 3 - Élite, bachillerato y ...</td>\n",
       "      <td>En este episodio estaremos hablando de la cult...</td>\n",
       "      <td>[escueladenada, edn, gaboruiz, elmundoyelpais,...</td>\n",
       "      <td>2021-07-01T22:00:27Z</td>\n",
       "      <td>PT28M40S</td>\n",
       "      <td>hd</td>\n",
       "      <td>false</td>\n",
       "      <td>18335</td>\n",
       "      <td>1614</td>\n",
       "      <td>0</td>\n",
       "      <td>243</td>\n",
       "    </tr>\n",
       "    <tr>\n",
       "      <th>62</th>\n",
       "      <td>yVZrTm2mn-8</td>\n",
       "      <td>Jasy y Neisser</td>\n",
       "      <td>Jasy y Neisser - EP 2 - Mujeres con historia y...</td>\n",
       "      <td>Nos hace muy feliz traerles el segundo episodi...</td>\n",
       "      <td>[pride, gay, lgbt, queer, podcast, podcastlati...</td>\n",
       "      <td>2021-06-24T22:00:16Z</td>\n",
       "      <td>PT24M46S</td>\n",
       "      <td>hd</td>\n",
       "      <td>false</td>\n",
       "      <td>10680</td>\n",
       "      <td>1138</td>\n",
       "      <td>0</td>\n",
       "      <td>159</td>\n",
       "    </tr>\n",
       "    <tr>\n",
       "      <th>63</th>\n",
       "      <td>3N-IqZuQhgY</td>\n",
       "      <td>Jasy y Neisser</td>\n",
       "      <td>Jasy y Neisser - EP 1- Piloto</td>\n",
       "      <td>Bienvenidos al primer episodio de nuestro podc...</td>\n",
       "      <td>[podcast, pride, podcastlatino, latino, comedi...</td>\n",
       "      <td>2021-06-17T22:00:09Z</td>\n",
       "      <td>PT25M57S</td>\n",
       "      <td>hd</td>\n",
       "      <td>false</td>\n",
       "      <td>16461</td>\n",
       "      <td>1604</td>\n",
       "      <td>0</td>\n",
       "      <td>205</td>\n",
       "    </tr>\n",
       "  </tbody>\n",
       "</table>\n",
       "<p>64 rows × 13 columns</p>\n",
       "</div>"
      ],
      "text/plain": [
       "       video_id    channelTitle  \\\n",
       "0   ivr5BnmzyV0  Jasy y Neisser   \n",
       "1   XmHk0Dgje_Y  Jasy y Neisser   \n",
       "2   0l435OUpQaI  Jasy y Neisser   \n",
       "3   j7MXzeVkPxQ  Jasy y Neisser   \n",
       "4   QJ1vFGFk4RI  Jasy y Neisser   \n",
       "..          ...             ...   \n",
       "59  7C9flOjopqk  Jasy y Neisser   \n",
       "60  CoyMw1gQG80  Jasy y Neisser   \n",
       "61  MLfcMFOlvdY  Jasy y Neisser   \n",
       "62  yVZrTm2mn-8  Jasy y Neisser   \n",
       "63  3N-IqZuQhgY  Jasy y Neisser   \n",
       "\n",
       "                                                title  \\\n",
       "0                      LE PEDÍ SER MI NOVIA 💘 #shorts   \n",
       "1   Jasy y Neisser EP 48 - ¿CÓMO ES SER DRAG EN VE...   \n",
       "2                 se c4gó en el patio💩 #shorts #viral   \n",
       "3                                El Titanic 😭 #shorts   \n",
       "4   Jasy y Neisser - EP 47 ¿NOS VAMOS A EXTINGUIR? 😨😱   \n",
       "..                                                ...   \n",
       "59  Jasy y Neisser - EP 5 - ¿Cómo se vive en Venez...   \n",
       "60  Jasy y Neisser - EP 4 - PIJAMADA: Bodyshaming,...   \n",
       "61  Jasy y Neisser - EP 3 - Élite, bachillerato y ...   \n",
       "62  Jasy y Neisser - EP 2 - Mujeres con historia y...   \n",
       "63                      Jasy y Neisser - EP 1- Piloto   \n",
       "\n",
       "                                          description  \\\n",
       "0             #shorts #viral #viralvideo #jasyneisser   \n",
       "1   Jasy y Neisser - EP 48 ¿CÓMO SER DRAG EN VENEZ...   \n",
       "2                                                       \n",
       "3                          #shorts #viral #viralvideo   \n",
       "4   Hablando sobre el cambio climático, la evoluci...   \n",
       "..                                                ...   \n",
       "59  Hola madres, estamos felices de que estén aquí...   \n",
       "60  En este episodio especial y mas intimo de PIJA...   \n",
       "61  En este episodio estaremos hablando de la cult...   \n",
       "62  Nos hace muy feliz traerles el segundo episodi...   \n",
       "63  Bienvenidos al primer episodio de nuestro podc...   \n",
       "\n",
       "                                                 tags           publishedAt  \\\n",
       "0                                                None  2022-05-07T14:35:30Z   \n",
       "1                                                None  2022-05-05T23:30:11Z   \n",
       "2                                                None  2022-05-03T21:18:45Z   \n",
       "3                                                None  2022-04-29T16:35:19Z   \n",
       "4   [jasy y Neisser, jasy del rey, neisser, escuel...  2022-04-28T23:30:10Z   \n",
       "..                                                ...                   ...   \n",
       "59  [edn, escueladenada, nanutria, sipdn, gaboruiz...  2021-07-15T23:00:14Z   \n",
       "60  [edn, escueladenada, nanutria, victornanutria,...  2021-07-08T23:00:11Z   \n",
       "61  [escueladenada, edn, gaboruiz, elmundoyelpais,...  2021-07-01T22:00:27Z   \n",
       "62  [pride, gay, lgbt, queer, podcast, podcastlati...  2021-06-24T22:00:16Z   \n",
       "63  [podcast, pride, podcastlatino, latino, comedi...  2021-06-17T22:00:09Z   \n",
       "\n",
       "      duration definition caption viewCount likeCount favoriteCount  \\\n",
       "0       PT1M1S         hd   false       423        57             0   \n",
       "1   PT1H14M14S         hd   false      4834       352             0   \n",
       "2        PT38S         hd   false       202        20             0   \n",
       "3        PT32S         hd   false       253        39             0   \n",
       "4     PT1H6M7S         hd   false      5859       403             0   \n",
       "..         ...        ...     ...       ...       ...           ...   \n",
       "59    PT30M13S         hd   false     12666      1028             0   \n",
       "60    PT28M15S         hd   false     13240      1135             0   \n",
       "61    PT28M40S         hd   false     18335      1614             0   \n",
       "62    PT24M46S         hd   false     10680      1138             0   \n",
       "63    PT25M57S         hd   false     16461      1604             0   \n",
       "\n",
       "   commentCount  \n",
       "0             7  \n",
       "1            81  \n",
       "2             2  \n",
       "3             1  \n",
       "4           140  \n",
       "..          ...  \n",
       "59          265  \n",
       "60          148  \n",
       "61          243  \n",
       "62          159  \n",
       "63          205  \n",
       "\n",
       "[64 rows x 13 columns]"
      ]
     },
     "execution_count": 45,
     "metadata": {},
     "output_type": "execute_result"
    }
   ],
   "source": [
    "videos_df = get_video_details(youtube, video_ids)\n",
    "\n",
    "videos_df"
   ]
  },
  {
   "cell_type": "code",
   "execution_count": 46,
   "metadata": {},
   "outputs": [
    {
     "data": {
      "text/plain": [
       "video_id         False\n",
       "channelTitle     False\n",
       "title            False\n",
       "description      False\n",
       "tags              True\n",
       "publishedAt      False\n",
       "duration         False\n",
       "definition       False\n",
       "caption          False\n",
       "viewCount        False\n",
       "likeCount        False\n",
       "favoriteCount    False\n",
       "commentCount      True\n",
       "dtype: bool"
      ]
     },
     "execution_count": 46,
     "metadata": {},
     "output_type": "execute_result"
    }
   ],
   "source": [
    "#cheking for null values\n",
    "\n",
    "videos_df.isnull().any()"
   ]
  },
  {
   "cell_type": "code",
   "execution_count": 48,
   "metadata": {},
   "outputs": [],
   "source": [
    "#changing data types of the viewCount, likeCount, favoriteCount and commentCount columns\n",
    "#changing the data frame name to reflect the podcast name Jasy y Neisser; JaN\n",
    "#the comment count has null values and wont be converted to int\n",
    "\n",
    "JaN_videos_df=videos_df.astype({'viewCount':int, 'likeCount':int, 'favoriteCount':int})"
   ]
  },
  {
   "cell_type": "code",
   "execution_count": 49,
   "metadata": {},
   "outputs": [
    {
     "data": {
      "text/plain": [
       "video_id         object\n",
       "channelTitle     object\n",
       "title            object\n",
       "description      object\n",
       "tags             object\n",
       "publishedAt      object\n",
       "duration         object\n",
       "definition       object\n",
       "caption          object\n",
       "viewCount         int32\n",
       "likeCount         int32\n",
       "favoriteCount     int32\n",
       "commentCount      int32\n",
       "dtype: object"
      ]
     },
     "execution_count": 49,
     "metadata": {},
     "output_type": "execute_result"
    }
   ],
   "source": [
    "EDN_videos_df.dtypes"
   ]
  },
  {
   "cell_type": "code",
   "execution_count": 51,
   "metadata": {},
   "outputs": [
    {
     "data": {
      "image/png": "[encoded data removed]",
      "text/plain": [
       "<Figure size 432x288 with 1 Axes>"
      ]
     },
     "metadata": {
      "needs_background": "light"
     },
     "output_type": "display_data"
    }
   ],
   "source": [
    "#JaN best performing videos\n",
    "\n",
    "ax = sns.barplot(x='title', y='viewCount', data=JaN_videos_df.sort_values('viewCount', ascending=False) [0:9])\n",
    "plot = ax.set_xticklabels(ax.get_xticklabels(), rotation=90)"
   ]
  },
  {
   "cell_type": "code",
   "execution_count": 54,
   "metadata": {},
   "outputs": [
    {
     "data": {
      "text/plain": [
       "<matplotlib.axes._subplots.AxesSubplot at 0x20cb4f9ddc8>"
      ]
     },
     "execution_count": 54,
     "metadata": {},
     "output_type": "execute_result"
    },
    {
     "data": {
      "image/png": "[encoded data removed]",
      "text/plain": [
       "<Figure size 432x288 with 1 Axes>"
      ]
     },
     "metadata": {
      "needs_background": "light"
     },
     "output_type": "display_data"
    }
   ],
   "source": [
    "sns.violinplot(JaN_videos_df['channelTitle'], JaN_videos_df['viewCount'])"
   ]
  }
 ],
 "metadata": {
  "kernelspec": {
   "display_name": "Python 3",
   "language": "python",
   "name": "python3"
  },
  "language_info": {
   "codemirror_mode": {
    "name": "ipython",
    "version": 3
   },
   "file_extension": ".py",
   "mimetype": "text/x-python",
   "name": "python",
   "nbconvert_exporter": "python",
   "pygments_lexer": "ipython3",
   "version": "3.7.6"
  }
 },
 "nbformat": 4,
 "nbformat_minor": 4
}
